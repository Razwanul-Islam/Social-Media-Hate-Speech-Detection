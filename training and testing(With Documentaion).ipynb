{
 "cells": [
  {
   "attachments": {},
   "cell_type": "markdown",
   "metadata": {},
   "source": [
    "# Hate Speech Detection Using SVM (Support Vectore Machine) Model\n",
    "The Hate Speech Detection project is aimed at developing a machine learning model that can identify and classify hate speech in social media posts. Hate speech is defined as any language that is intended to degrade, intimidate, or incite violence or prejudicial action against a particular group of people based on their race, ethnicity, religion, gender, sexual orientation, or other characteristic.\n",
    "\n",
    "The use of hate speech has become a growing concern in recent years, with the rise of social media platforms that provide a global audience for anyone with an internet connection. Hate speech not only has a negative impact on the individuals or groups targeted, but it can also contribute to a wider climate of intolerance and discrimination.\n",
    "\n",
    "The proposed solution is to use a Support Vector Machine (SVM) algorithm, a type of supervised learning model, to analyze text data from social media posts and classify them as either hate speech or not. The project involves several stages, including data preprocessing, feature extraction, model training and testing, and performance evaluation. The ultimate goal is to develop a model that can accurately identify and flag hate speech, which can be used by social media companies to enforce their content policies and protect their users from harmful content."
   ]
  },
  {
   "attachments": {},
   "cell_type": "markdown",
   "metadata": {},
   "source": [
    "#### Required Library\n",
    "1) Pandas is a Python library used for data manipulation and analysis. It provides data structures and functions to read, write and manipulate tabular data (e.g., CSV, Excel, SQL database). In the context of the Hate Speech Detection project, Pandas is used to store and preprocess the raw text data in a DataFrame object.\n",
    "\n",
    "2) NumPy is a fundamental Python library for scientific computing that provides support for large, multi-dimensional arrays and matrices, as well as a wide range of mathematical functions to operate on these arrays. In the context of the Hate Speech Detection project, NumPy is used to handle the arrays and matrices that are used in the SVM algorithm.\n",
    "\n",
    "3) Matplotlib is a Python 2D plotting library that provides a variety of visualizations, such as line plots, scatter plots, histograms, and bar charts. In the context of the Hate Speech Detection project, Matplotlib is used to visualize the data and model performance.\n",
    "\n",
    "4) NLTK (Natural Language Toolkit) is a Python library for natural language processing (NLP) tasks, such as tokenization, stemming, lemmatization, part-of-speech tagging, and text classification. In the context of the Hate Speech Detection project, NLTK is used to preprocess the text data and extract relevant features.\n",
    "\n",
    "5) Scikit-learn (sklearn) is a popular Python library for machine learning that provides a variety of algorithms and tools for data preprocessing, feature extraction, model selection, and evaluation. In the context of the Hate Speech Detection project, Scikit-learn is used to implement the SVM algorithm, split the data into training and testing sets, and evaluate the model performance.\n",
    "\n",
    "6) Pickle is a Python library used for serializing and de-serializing Python objects (e.g., model objects) to a file or a stream. In the context of the Hate Speech Detection project, Pickle is used to save the trained SVM model to a file so that it can be used later for prediction without retraining the model."
   ]
  },
  {
   "cell_type": "code",
   "execution_count": 1,
   "metadata": {},
   "outputs": [],
   "source": [
    "# Importing all necessary library needed in this project\n",
    "import pandas as pd\n",
    "import numpy as np\n",
    "import matplotlib.pyplot as plt\n",
    "from nltk.tokenize import word_tokenize\n",
    "from nltk import pos_tag\n",
    "from nltk.corpus import stopwords\n",
    "from nltk.stem import WordNetLemmatizer\n",
    "from sklearn.preprocessing import LabelEncoder\n",
    "from collections import defaultdict\n",
    "from nltk.corpus import wordnet as wn\n",
    "from sklearn.feature_extraction.text import TfidfVectorizer\n",
    "from sklearn import model_selection, svm\n",
    "from sklearn.metrics import accuracy_score"
   ]
  },
  {
   "attachments": {},
   "cell_type": "markdown",
   "metadata": {},
   "source": [
    "### Read and Process Data for training and testing"
   ]
  },
  {
   "attachments": {},
   "cell_type": "markdown",
   "metadata": {},
   "source": [
    "#### Read data with pandas\n",
    "The data set can be easily added as a pandas Data Frame with the help of ‘read_csv’ function. I have set the encoding to ‘latin-1’ as the text had many special characters."
   ]
  },
  {
   "cell_type": "code",
   "execution_count": 2,
   "metadata": {},
   "outputs": [],
   "source": [
    "Corpus = pd.read_csv(r\"./labeled_data.csv\",encoding='latin-1')"
   ]
  },
  {
   "attachments": {},
   "cell_type": "markdown",
   "metadata": {},
   "source": [
    "View corpus data in tabular form. This is a free open source dataset downloaded from kaggle. It has 24783 rows and 7 columns. But we need only two column of data for our training which are class and tweet. there are three class of text here. they are labeled as 0,1,2. 0 means hate speech, 1 means offensive and 2 means neither of them. tweet are the original text. it’s important to note that this dataset contains text that can be considered racist, sexist, homophobic, or generally offensive."
   ]
  },
  {
   "cell_type": "code",
   "execution_count": 3,
   "metadata": {},
   "outputs": [
    {
     "data": {
      "text/html": [
       "<div>\n",
       "<style scoped>\n",
       "    .dataframe tbody tr th:only-of-type {\n",
       "        vertical-align: middle;\n",
       "    }\n",
       "\n",
       "    .dataframe tbody tr th {\n",
       "        vertical-align: top;\n",
       "    }\n",
       "\n",
       "    .dataframe thead th {\n",
       "        text-align: right;\n",
       "    }\n",
       "</style>\n",
       "<table border=\"1\" class=\"dataframe\">\n",
       "  <thead>\n",
       "    <tr style=\"text-align: right;\">\n",
       "      <th></th>\n",
       "      <th>Unnamed: 0</th>\n",
       "      <th>count</th>\n",
       "      <th>hate_speech</th>\n",
       "      <th>offensive_language</th>\n",
       "      <th>neither</th>\n",
       "      <th>class</th>\n",
       "      <th>tweet</th>\n",
       "    </tr>\n",
       "  </thead>\n",
       "  <tbody>\n",
       "    <tr>\n",
       "      <th>0</th>\n",
       "      <td>0</td>\n",
       "      <td>3</td>\n",
       "      <td>0</td>\n",
       "      <td>0</td>\n",
       "      <td>3</td>\n",
       "      <td>2</td>\n",
       "      <td>!!! RT @mayasolovely: As a woman you shouldn't...</td>\n",
       "    </tr>\n",
       "    <tr>\n",
       "      <th>1</th>\n",
       "      <td>1</td>\n",
       "      <td>3</td>\n",
       "      <td>0</td>\n",
       "      <td>3</td>\n",
       "      <td>0</td>\n",
       "      <td>1</td>\n",
       "      <td>!!!!! RT @mleew17: boy dats cold...tyga dwn ba...</td>\n",
       "    </tr>\n",
       "    <tr>\n",
       "      <th>2</th>\n",
       "      <td>2</td>\n",
       "      <td>3</td>\n",
       "      <td>0</td>\n",
       "      <td>3</td>\n",
       "      <td>0</td>\n",
       "      <td>1</td>\n",
       "      <td>!!!!!!! RT @UrKindOfBrand Dawg!!!! RT @80sbaby...</td>\n",
       "    </tr>\n",
       "    <tr>\n",
       "      <th>3</th>\n",
       "      <td>3</td>\n",
       "      <td>3</td>\n",
       "      <td>0</td>\n",
       "      <td>2</td>\n",
       "      <td>1</td>\n",
       "      <td>1</td>\n",
       "      <td>!!!!!!!!! RT @C_G_Anderson: @viva_based she lo...</td>\n",
       "    </tr>\n",
       "    <tr>\n",
       "      <th>4</th>\n",
       "      <td>4</td>\n",
       "      <td>6</td>\n",
       "      <td>0</td>\n",
       "      <td>6</td>\n",
       "      <td>0</td>\n",
       "      <td>1</td>\n",
       "      <td>!!!!!!!!!!!!! RT @ShenikaRoberts: The shit you...</td>\n",
       "    </tr>\n",
       "    <tr>\n",
       "      <th>...</th>\n",
       "      <td>...</td>\n",
       "      <td>...</td>\n",
       "      <td>...</td>\n",
       "      <td>...</td>\n",
       "      <td>...</td>\n",
       "      <td>...</td>\n",
       "      <td>...</td>\n",
       "    </tr>\n",
       "    <tr>\n",
       "      <th>24778</th>\n",
       "      <td>25291</td>\n",
       "      <td>3</td>\n",
       "      <td>0</td>\n",
       "      <td>2</td>\n",
       "      <td>1</td>\n",
       "      <td>1</td>\n",
       "      <td>you's a muthaf***in lie &amp;#8220;@LifeAsKing: @2...</td>\n",
       "    </tr>\n",
       "    <tr>\n",
       "      <th>24779</th>\n",
       "      <td>25292</td>\n",
       "      <td>3</td>\n",
       "      <td>0</td>\n",
       "      <td>1</td>\n",
       "      <td>2</td>\n",
       "      <td>2</td>\n",
       "      <td>you've gone and broke the wrong heart baby, an...</td>\n",
       "    </tr>\n",
       "    <tr>\n",
       "      <th>24780</th>\n",
       "      <td>25294</td>\n",
       "      <td>3</td>\n",
       "      <td>0</td>\n",
       "      <td>3</td>\n",
       "      <td>0</td>\n",
       "      <td>1</td>\n",
       "      <td>young buck wanna eat!!.. dat nigguh like I ain...</td>\n",
       "    </tr>\n",
       "    <tr>\n",
       "      <th>24781</th>\n",
       "      <td>25295</td>\n",
       "      <td>6</td>\n",
       "      <td>0</td>\n",
       "      <td>6</td>\n",
       "      <td>0</td>\n",
       "      <td>1</td>\n",
       "      <td>youu got wild bitches tellin you lies</td>\n",
       "    </tr>\n",
       "    <tr>\n",
       "      <th>24782</th>\n",
       "      <td>25296</td>\n",
       "      <td>3</td>\n",
       "      <td>0</td>\n",
       "      <td>0</td>\n",
       "      <td>3</td>\n",
       "      <td>2</td>\n",
       "      <td>~~Ruffled | Ntac Eileen Dahlia - Beautiful col...</td>\n",
       "    </tr>\n",
       "  </tbody>\n",
       "</table>\n",
       "<p>24783 rows × 7 columns</p>\n",
       "</div>"
      ],
      "text/plain": [
       "       Unnamed: 0  count  hate_speech  offensive_language  neither  class   \n",
       "0               0      3            0                   0        3      2  \\\n",
       "1               1      3            0                   3        0      1   \n",
       "2               2      3            0                   3        0      1   \n",
       "3               3      3            0                   2        1      1   \n",
       "4               4      6            0                   6        0      1   \n",
       "...           ...    ...          ...                 ...      ...    ...   \n",
       "24778       25291      3            0                   2        1      1   \n",
       "24779       25292      3            0                   1        2      2   \n",
       "24780       25294      3            0                   3        0      1   \n",
       "24781       25295      6            0                   6        0      1   \n",
       "24782       25296      3            0                   0        3      2   \n",
       "\n",
       "                                                   tweet  \n",
       "0      !!! RT @mayasolovely: As a woman you shouldn't...  \n",
       "1      !!!!! RT @mleew17: boy dats cold...tyga dwn ba...  \n",
       "2      !!!!!!! RT @UrKindOfBrand Dawg!!!! RT @80sbaby...  \n",
       "3      !!!!!!!!! RT @C_G_Anderson: @viva_based she lo...  \n",
       "4      !!!!!!!!!!!!! RT @ShenikaRoberts: The shit you...  \n",
       "...                                                  ...  \n",
       "24778  you's a muthaf***in lie &#8220;@LifeAsKing: @2...  \n",
       "24779  you've gone and broke the wrong heart baby, an...  \n",
       "24780  young buck wanna eat!!.. dat nigguh like I ain...  \n",
       "24781              youu got wild bitches tellin you lies  \n",
       "24782  ~~Ruffled | Ntac Eileen Dahlia - Beautiful col...  \n",
       "\n",
       "[24783 rows x 7 columns]"
      ]
     },
     "execution_count": 3,
     "metadata": {},
     "output_type": "execute_result"
    }
   ],
   "source": [
    "Corpus"
   ]
  },
  {
   "attachments": {},
   "cell_type": "markdown",
   "metadata": {},
   "source": [
    "#### Data Pre-Processing\n",
    "This is an important step in any data mining process. This basically involves transforming raw data into an understandable format for NLP models. Real-world data is often incomplete, inconsistent, and/or lacking in certain behaviors or trends, and is likely to contain many errors. Data pre-processing is a proven method of resolving such issues.This will help in getting better results through the classification algorithms."
   ]
  },
  {
   "cell_type": "code",
   "execution_count": 4,
   "metadata": {},
   "outputs": [],
   "source": [
    "# Step - a : Remove blank rows if any.\n",
    "Corpus['tweet'].dropna(inplace=True)\n",
    "# Step - b : Change all the text to lower case. This is required as python interprets 'dog' and 'DOG' differently\n",
    "Corpus['tweet'] = [entry.lower() for entry in Corpus['tweet']]"
   ]
  },
  {
   "attachments": {},
   "cell_type": "markdown",
   "metadata": {},
   "source": [
    "##### Tokenization: \n",
    "This is a process of breaking a stream of text up into words, phrases, symbols, or other meaningful elements called tokens. The list of tokens becomes input for further processing. NLTK Library has word_tokenize and sent_tokenize to easily break a stream of text into a list of words or sentences, respectively."
   ]
  },
  {
   "cell_type": "code",
   "execution_count": 5,
   "metadata": {},
   "outputs": [],
   "source": [
    "Corpus['tweet']= [word_tokenize(entry) for entry in Corpus['tweet']]"
   ]
  },
  {
   "cell_type": "code",
   "execution_count": 6,
   "metadata": {},
   "outputs": [
    {
     "name": "stdout",
     "output_type": "stream",
     "text": [
      "['!', '!', '!', 'rt', '@', 'mayasolovely', ':', 'as', 'a', 'woman', 'you', 'should', \"n't\", 'complain', 'about', 'cleaning', 'up', 'your', 'house', '.', '&', 'amp', ';', 'as', 'a', 'man', 'you', 'should', 'always', 'take', 'the', 'trash', 'out', '...']\n"
     ]
    }
   ],
   "source": [
    "# first entry text after tokenization\n",
    "print(Corpus[\"tweet\"][0])"
   ]
  },
  {
   "cell_type": "code",
   "execution_count": 7,
   "metadata": {},
   "outputs": [],
   "source": [
    "# WordNetLemmatizer requires Pos tags to understand if the word is noun or verb or adjective etc. By default it is set to Noun\n",
    "tag_map = defaultdict(lambda : wn.NOUN)\n",
    "tag_map['J'] = wn.ADJ\n",
    "tag_map['V'] = wn.VERB\n",
    "tag_map['R'] = wn.ADV"
   ]
  },
  {
   "attachments": {},
   "cell_type": "markdown",
   "metadata": {},
   "source": [
    "##### Word Stemming/Lemmatization: \n",
    "The aim of both processes is the same, reducing the inflectional forms of each word into a common base or root. Lemmatization is closely related to stemming. The difference is that a stemmer operates on a single word without knowledge of the context, and therefore cannot discriminate between words which have different meanings depending on part of speech. However, stemmers are typically easier to implement and run faster, and the reduced accuracy may not matter for some applications."
   ]
  },
  {
   "attachments": {},
   "cell_type": "markdown",
   "metadata": {},
   "source": [
    "The code below is a preprocessing step for a Hate Speech Detection project using SVM. The input data is assumed to be in a Pandas DataFrame called \"Corpus\" with a column named \"tweet\" containing raw text data.\n",
    "\n",
    "The code performs the following tasks:\n",
    "\n",
    "Iterates over each tweet in the \"tweet\" column of the DataFrame using an enumerated loop.\n",
    "\n",
    "For each tweet, it initializes an empty list called \"Final_words\".\n",
    "\n",
    "It uses NLTK library functions to tokenize each word in the tweet and identify its part-of-speech tag (noun, verb, etc.).\n",
    "\n",
    "It checks if the word is a stopword (common words like \"a\", \"the\", \"and\", etc.) and if it contains only alphabets.\n",
    "\n",
    "If the above conditions are true, it lemmatizes the word using WordNetLemmatizer and the appropriate part-of-speech tag.\n",
    "\n",
    "The final processed set of words for each tweet is stored as a string in a new column called \"text_final\" in the same DataFrame.\n",
    "\n",
    "This preprocessing step aims to standardize the text data by removing unnecessary words, converting them to their base form (lemmatization), and grouping similar words (e.g., \"run\", \"running\", \"ran\" all become \"run\"). This will make it easier for the SVM model to classify the text data accurately."
   ]
  },
  {
   "cell_type": "code",
   "execution_count": 8,
   "metadata": {},
   "outputs": [],
   "source": [
    "for index,entry in enumerate(Corpus['tweet']):\n",
    "    # Declaring Empty List to store the words that follow the rules for this step\n",
    "    Final_words = []\n",
    "    # Initializing WordNetLemmatizer()\n",
    "    word_Lemmatized = WordNetLemmatizer()\n",
    "    # pos_tag function below will provide the 'tag' i.e if the word is Noun(N) or Verb(V) or something else.\n",
    "    for word, tag in pos_tag(entry):\n",
    "        # Below condition is to check for Stop words and consider only alphabets\n",
    "        if word not in stopwords.words('english') and word.isalpha():\n",
    "            word_Final = word_Lemmatized.lemmatize(word,tag_map[tag[0]])\n",
    "            Final_words.append(word_Final)\n",
    "    # The final processed set of words for each iteration will be stored in 'text_final'\n",
    "    Corpus.loc[index,'text_final'] = str(Final_words)"
   ]
  },
  {
   "attachments": {},
   "cell_type": "markdown",
   "metadata": {},
   "source": [
    "View text before lemmatization and after processing and lemmatization"
   ]
  },
  {
   "cell_type": "code",
   "execution_count": 9,
   "metadata": {},
   "outputs": [
    {
     "name": "stdout",
     "output_type": "stream",
     "text": [
      "['!', '!', '!', 'rt', '@', 'mayasolovely', ':', 'as', 'a', 'woman', 'you', 'should', \"n't\", 'complain', 'about', 'cleaning', 'up', 'your', 'house', '.', '&', 'amp', ';', 'as', 'a', 'man', 'you', 'should', 'always', 'take', 'the', 'trash', 'out', '...']\n",
      "['rt', 'mayasolovely', 'woman', 'complain', 'clean', 'house', 'amp', 'man', 'always', 'take', 'trash']\n"
     ]
    }
   ],
   "source": [
    "print(Corpus[\"tweet\"][0])\n",
    "print(Corpus[\"text_final\"][0])"
   ]
  },
  {
   "attachments": {},
   "cell_type": "markdown",
   "metadata": {},
   "source": [
    "##### Prepare Train and Test Data sets\n",
    "The Corpus will be split into two data sets, Training and Test. The training data set will be used to fit the model and the predictions will be performed on the test data set.This can be done through the train_test_split from the sklearn library. The Training Data will have 80% of the corpus and Test data will have the remaining 20% as we have set the parameter test_size=0.2 ."
   ]
  },
  {
   "cell_type": "code",
   "execution_count": 10,
   "metadata": {},
   "outputs": [],
   "source": [
    "Train_X, Test_X, Train_Y, Test_Y = model_selection.train_test_split(Corpus['text_final'],Corpus['class'],test_size=0.2)"
   ]
  },
  {
   "cell_type": "code",
   "execution_count": 11,
   "metadata": {},
   "outputs": [
    {
     "name": "stdout",
     "output_type": "stream",
     "text": [
      "['keeks', 'bitch', 'curve', 'everyone', 'lol', 'walk', 'conversation', 'like', 'smh']\n",
      "1\n"
     ]
    }
   ],
   "source": [
    "print(Train_X[10])\n",
    "print(Train_Y[10])"
   ]
  },
  {
   "attachments": {},
   "cell_type": "markdown",
   "metadata": {},
   "source": [
    "##### Word Vectorization\n",
    "It is a general process of turning a collection of text documents into numerical feature vectors.Their are many methods to convert text data to vectors which the model can understand but by far the most popular method is called TF-IDF. This is an acronym than stands for “Term Frequency — Inverse Document” Frequency which are the components of the resulting scores assigned to each word.\n",
    "\n",
    "1) Term Frequency: This summarizes how often a given word appears within a document.\n",
    "\n",
    "2) Inverse Document Frequency: This down scales words that appear a lot across documents.\n",
    "Without going into the math, TF-IDF are word frequency scores that try to highlight words that are more interesting, e.g. frequent in a document but not across documents.\n",
    "\n",
    "The following syntax can be used to first fit the TG-IDF model on the whole corpus. This will help TF-IDF build a vocabulary of words which it has learned from the corpus data and it will assign a unique integer number to each of these words. Their will be maximum of 5000 unique words/features as we have set parameter max_features=5000.\n",
    "\n",
    "Finally we will transform Train_X and Test_X to vectorized Train_X_Tfidf and Test_X_Tfidf. These will now contain for each row a list of unique integer number and its associated importance as calculated by TF-IDF."
   ]
  },
  {
   "cell_type": "code",
   "execution_count": 12,
   "metadata": {},
   "outputs": [],
   "source": [
    "# Vectorize the texts\n",
    "Tfidf_vect = TfidfVectorizer(max_features=5000)\n",
    "Tfidf_vect.fit(Corpus['text_final'])\n",
    "Train_X_Tfidf = Tfidf_vect.transform(Train_X)\n",
    "Test_X_Tfidf = Tfidf_vect.transform(Test_X)"
   ]
  },
  {
   "attachments": {},
   "cell_type": "markdown",
   "metadata": {},
   "source": [
    "You can use the below syntax to see the vocabulary that it has learned from the corpus"
   ]
  },
  {
   "cell_type": "code",
   "execution_count": 31,
   "metadata": {},
   "outputs": [
    {
     "name": "stdout",
     "output_type": "stream",
     "text": [
      "{'rt': 3656, 'woman': 4886, 'complain': 869, 'clean': 800, 'house': 2055, 'amp': 126, 'man': 2705, 'always': 109, 'take': 4246, 'trash': 4492, 'boy': 503, 'dat': 1041, 'cold': 843, 'tyga': 4570, 'bad': 274, 'cuffin': 989, 'hoe': 2000, 'place': 3294, 'dawg': 1050, 'ever': 1398, 'fuck': 1650, 'bitch': 406, 'start': 4106, 'cry': 978, 'confuse': 887, 'shit': 3862, 'look': 2635, 'like': 2549, 'tranny': 4489, 'hear': 1944, 'might': 2811, 'true': 4521, 'tell': 4298, 'ya': 4929, 'blow': 443, 'claim': 792, 'faithful': 1454, 'somebody': 4008, 'still': 4132, 'sit': 3917, 'hate': 1927, 'another': 146, 'get': 1717, 'much': 2903, 'go': 1752, 'cause': 676, 'tire': 4439, 'big': 387, 'come': 853, 'skinny': 3926, 'girl': 1734, 'back': 268, 'thats': 4341, 'hobby': 1998, 'include': 2152, 'fighting': 1513, 'curve': 1007, 'everyone': 1403, 'lol': 2622, 'walk': 4738, 'conversation': 903, 'smh': 3967, 'murda': 2911, 'gang': 1686, 'land': 2453, 'smoke': 3971, 'loser': 2646, 'yea': 4950, 'ig': 2113, 'thing': 4377, 'nigga': 3009, 'miss': 2839, 'plz': 3318, 'whatever': 4818, 'love': 2658, 'cut': 1011, 'everyday': 1402, 'black': 414, 'bottle': 493, 'break': 522, 'cant': 643, 'nothing': 3060, 'cancel': 637, 'nino': 3027, 'see': 3778, 'wont': 4889, 'change': 713, 'dont': 1210, 'even': 1396, 'suck': 4186, 'dick': 1133, 'video': 4683, 'bout': 497, 'tip': 4437, 'toe': 4448, 'floor': 1564, 'http': 2064, 'pussy': 3449, 'lip': 2565, 'heaven': 1952, 'door': 1213, 'meet': 2763, 'ocean': 3089, 'dr': 1224, 'give': 1738, 'pill': 3274, 'need': 2965, 'trippy': 4512, 'spend': 4059, 'money': 2868, 'want': 4748, 'business': 603, 'txt': 4568, 'old': 3113, 'new': 2991, 'say': 3725, 'im': 2131, 'would': 4908, 'excite': 1416, 'aint': 77, 'murder': 2912, 'game': 1685, 'shut': 3887, 'ai': 71, 'do': 1186, 'stink': 4134, 'bitter': 411, 'wrap': 4913, 'angry': 137, 'bird': 402, 'theres': 4365, 'app': 168, 'jus': 2322, 'son': 4015, 'mane': 2707, 'as': 198, 'shot': 3875, 'lame': 2447, 'tear': 4288, 'clown': 822, 'snoop': 3989, 'momma': 2865, 'cat': 668, 'inside': 2175, 'favorite': 1483, 'nice': 3000, 'make': 2697, 'naughty': 2950, 'real': 3514, 'body': 457, 'south': 4038, 'chick': 748, 'em': 1353, 'thick': 4372, 'pimp': 3277, 'future': 1674, 'voice': 4711, 'post': 3357, 'picture': 3266, 'drug': 1253, 'quick': 3463, 'piece': 3268, 'call': 623, 'drive': 1243, 'run': 3667, 'round': 3653, 'brand': 514, 'send': 3794, 'guy': 1864, 'talk': 4251, 'trust': 4525, 'yall': 4934, 'cuffing': 990, 'never': 2988, 'dodge': 1189, 'bullet': 582, 'da': 1017, 'pregnant': 3375, 'bind': 399, 'thank': 4333, 'god': 1756, 'young': 4974, 'music': 2916, 'probably': 3398, 'twitter': 4565, 'gay': 1698, 'could': 927, 'wait': 4732, 'act': 27, 'tonight': 4458, 'ima': 2132, 'steal': 4119, 'replace': 3565, 'movie': 2896, 'wan': 4745, 'na': 2927, 'model': 2857, 'russell': 3673, 'mind': 2831, 'school': 3743, 'deal': 1059, 'teacher': 4284, 'retweet': 3586, 'fucking': 1655, 'fag': 1446, 'female': 1501, 'think': 4378, 'date': 1043, 'cute': 1012, 'stuff': 4171, 'woof': 4891, 'hot': 2051, 'scally': 3730, 'lad': 2437, 'ask': 206, 'kanye': 2333, 'yes': 4961, 'bring': 540, 'ur': 4624, 'side': 3894, 'know': 2411, 'gf': 1719, 'friend': 1633, 'swear': 4223, 'sol': 4001, 'eat': 1303, 'oreo': 3145, 'dish': 1165, 'one': 3123, 'jetsandaswisher': 2272, 'maybe': 2744, 'well': 4803, 'red': 3533, 'niggah': 3010, 'please': 3309, 'use': 4631, 'complete': 870, 'sentence': 3800, 'eggplant': 1330, 'emoji': 1358, 'doe': 1191, 'scream': 3754, 'lmao': 2586, 'gt': 1838, 'sexy': 3821, 'shower': 3883, 'lt': 2670, 'eaglesnation': 1291, 'every': 1399, 'eagle': 1290, 'pic': 3261, 'racist': 3473, 'yo': 4966, 'wood': 4890, 'push': 3448, 'faggot': 1447, 'ball': 288, 'life': 2542, 'baby': 266, 'monkey': 2870, 'soooo': 4022, 'adorable': 43, 'damn': 1027, 'kill': 2373, 'ant': 148, 'way': 4775, 'must': 2918, 'chance': 709, 'ring': 3612, 'mvp': 2925, 'ppl': 3366, 'kid': 2369, 'grow': 1834, 'fact': 1443, 'tattoo': 4268, 'nipple': 3029, 'worship': 4905, 'wow': 4911, 'lose': 2645, 'piercings': 3270, 'yeah': 4951, 'blacknerdjade': 415, 'ok': 3109, 'si': 3892, 'rather': 3500, 'broke': 548, 'shrug': 3886, 'work': 4895, 'queer': 3461, 'itsnotadam': 2216, 'read': 3512, 'tweet': 4552, 'funny': 1671, 'brosconfessions': 553, 'ungrateful': 4603, 'fr': 1611, 'kidnap': 2370, 'hes': 1967, 'beaner': 337, 'mexican': 2790, 'happy': 1909, 'birthday': 404, 'nigs': 3020, 'thanks': 4335, 'chlldhoodruiner': 764, 'homework': 2017, 'hell': 1959, 'john': 2294, 'paul': 3215, 'lil': 2551, 'ugly': 4581, 'bald': 287, 'head': 1940, 'stop': 4143, 'weave': 4787, 'leaf': 2489, 'win': 4858, 'good': 1767, 'nig': 3007, 'causewereguys': 677, 'attend': 227, 'year': 4952, 'food': 1587, 'car': 651, 'retard': 3582, 'show': 3882, 'hella': 1960, 'tinder': 4433, 'anymore': 156, 'chill': 756, 'cowboys': 939, 'shutup': 3888, 'clicquotsuave': 806, 'foh': 1581, 'spit': 4069, 'let': 2524, 'couple': 932, 'page': 3176, 'wo': 4883, 'jail': 2232, 'trick': 4505, 'harlem': 1919, 'shake': 3829, 'excuse': 1418, 'full': 1663, 'second': 3773, 'amen': 117, 'miley': 2820, 'okay': 3110, 'bc': 333, 'damage': 1025, 'loyal': 2667, 'idc': 2101, 'lick': 2537, 'meow': 2777, 'check': 735, 'ny': 3080, 'fan': 1465, 'stand': 4098, 'happen': 1905, 'ran': 3483, 'throw': 4408, 'nude': 3069, 'pat': 3205, 'hold': 2004, 'anyway': 160, 'wrong': 4918, 'nobody': 3033, 'type': 4573, 'dm': 1182, 'top': 4463, 'domworldpeace': 1205, 'baseball': 312, 'season': 3769, 'yankee': 4936, 'little': 2575, 'stupid': 4174, 'really': 3518, 'dead': 1057, 'serious': 3805, 'tho': 4386, 'early': 1295, 'night': 3018, 'wise': 4870, 'worm': 4902, 'heavy': 1953, 'sound': 4033, 'day': 1052, 'pit': 3288, 'bull': 581, 'lovely': 2660, 'fairy': 1452, 'tale': 4248, 'creature': 955, 'aw': 248, 'long': 2632, 'lakers': 2445, 'cc': 682, 'hahaha': 1877, 'anything': 158, 'kiss': 2394, 'funnypicsdepot': 1673, 'play': 3303, 'soccer': 3994, 'cheat': 733, 'wear': 4784, 'khaki': 2365, 'colour': 849, 'cargo': 657, 'haircut': 1883, 'yup': 4986, 'fat': 1477, 'lap': 2457, 'das': 1040, 'finna': 1529, 'ta': 4236, 'rule': 3665, 'anybody': 155, 'cousin': 935, 'jersey': 2266, 'thinkin': 4379, 'move': 2895, 'amo': 122, 'los': 2642, 'pie': 3267, 'girlthatsvonte': 1737, 'meat': 2757, 'slap': 3937, 'ass': 209, 'bruh': 558, 'wit': 4873, 'edge': 1318, 'treat': 4496, 'nah': 2932, 'sweet': 4227, 'bag': 281, 'sex': 3817, 'mom': 2862, 'right': 3608, 'hack': 1872, 'eye': 1433, 'open': 3132, 'watch': 4765, 'lmfao': 2594, 'woulda': 4909, 'coulda': 928, 'shoulda': 3876, 'bday': 334, 'roll': 3634, 'wcw': 4781, 'duh': 1268, 'sack': 3682, 'pass': 3200, 'glad': 1740, 'outta': 3163, 'atlanta': 222, 'bunch': 593, 'dumb': 1272, 'mad': 2687, 'fuckin': 1654, 'ghetto': 1720, 'smart': 3959, 'wife': 4846, 'cuz': 1014, 'care': 654, 'force': 1593, 'relationship': 3552, 'first': 1533, 'hornyfacts': 2042, 'single': 3910, 'white': 4835, 'power': 3365, 'drunk': 1255, 'spark': 4049, 'blunts': 447, 'bro': 545, 'dude': 1265, 'around': 190, 'world': 4899, 'party': 3198, 'set': 3811, 'oomf': 3128, 'lot': 2649, 'cartoon': 663, 'save': 3723, 'captain': 648, 'nose': 3055, 'sox': 4041, 'leg': 2506, 'wish': 4871, 'brother': 555, 'bet': 372, 'dress': 1237, 'halloween': 1889, 'basic': 318, 'pornhub': 3349, 'stream': 4151, 'feature': 1490, 'gtfo': 1841, 'joebudden': 2291, 'scar': 3735, 'choke': 768, 'hit': 1990, 'bed': 347, 'ha': 1870, 'kazatta': 2348, 'oh': 3104, 'molly': 2861, 'ho': 1996, 'seed': 3779, 'fix': 1541, 'refer': 3539, 'keyshawnswag': 2362, 'beat': 342, 'finally': 1524, 'shaq': 3835, 'line': 2558, 'tf': 4326, 'kingcuh': 2388, 'io': 2193, 'alu': 108, 'record': 3530, 'vine': 4688, 'hahahaha': 1879, 'haha': 1875, 'naw': 2951, 'tape': 4263, 'cover': 936, 'mixtape': 2846, 'mayne': 2745, 'ol': 3112, 'dirty': 1153, 'foot': 1591, 'yellow': 4958, 'flag': 1543, 'amazing': 114, 'time': 4431, 'actin': 28, 'iffy': 2112, 'stay': 4114, 'alive': 92, 'knight': 2407, 'nation': 2944, 'special': 4054, 'smfh': 3966, 'wonder': 4887, 'decent': 1066, 'stud': 4167, 'keep': 2351, 'thinking': 4380, 'soft': 3999, 'many': 2715, 'stfu': 4129, 'bye': 615, 'dry': 1258, 'blame': 418, 'condom': 883, 'gucci': 1847, 'drop': 1249, 'month': 2873, 'ca': 618, 'text': 4321, 'latrobemark': 2469, 'wats': 4772, 'lebronvuitton': 2501, 'without': 4877, 'daddy': 1019, 'issue': 2210, 'find': 1525, 'easy': 1302, 'cum': 994, 'lifeasbros': 2543, 'charlie': 727, 'sheen': 3844, 'major': 2695, 'respect': 3576, 'bae': 279, 'twerking': 4558, 'cook': 907, 'wtf': 4919, 'zoe': 4993, 'fight': 1511, 'along': 99, 'snake': 3977, 'booty': 480, 'everywhere': 1406, 'sheesh': 3845, 'tune': 4538, 'update': 4617, 'report': 3567, 'week': 4794, 'bum': 586, 'oregon': 3144, 'field': 1510, 'program': 3405, 'def': 1077, 'cowboy': 938, 'best': 370, 'tv': 4548, 'romo': 3638, 'lmfaoooo': 2597, 'people': 3233, 'https': 2065, 'nigger': 3014, 'past': 3203, 'sleep': 3941, 'frat': 1617, 'fam': 1459, 'depend': 1103, 'feel': 1494, 'hick': 1972, 'america': 119, 'mean': 2754, 'vagina': 4637, 'nasty': 2942, 'actually': 34, 'choose': 769, 'mileycyrus': 2821, 'vibe': 4673, 'try': 4527, 'dis': 1154, 'af': 47, 'tight': 4425, 'shirt': 3861, 'everybody': 1400, 'may': 2743, 'climate': 807, 'beautiful': 344, 'nickiminaj': 3004, 'purple': 3444, 'gurl': 1859, 'playin': 3306, 'track': 4480, 'sum': 4197, 'taller': 4256, 'obsess': 3086, 'mine': 2832, 'kobe': 2417, 'forget': 1599, 'nochillpaz': 3034, 'least': 2496, 'mixed': 2845, 'asian': 204, 'coward': 937, 'cripple': 963, 'hero': 1966, 'roach': 3622, 'lmaoo': 2587, 'home': 2011, 'imaginary': 2134, 'whoa': 4837, 'everything': 1404, 'lowkey': 2665, 'quiet': 3465, 'prayingforhead': 3371, 'weird': 4800, 'mention': 2776, 'weak': 4782, 'advice': 45, 'speed': 4057, 'quote': 3468, 'animal': 138, 'stripper': 4162, 'pop': 3342, 'double': 1218, 'vision': 4702, 'beer': 350, 'twerk': 4556, 'computer': 874, 'art': 195, 'takin': 4247, 'aid': 73, 'slander': 3934, 'role': 3633, 'hide': 1973, 'tree': 4498, 'iemonaids': 2111, 'drake': 1229, 'shoe': 3869, 'release': 3554, 'dudes': 1266, 'di': 1128, 'alone': 98, 'austin': 237, 'teach': 4283, 'expect': 1422, 'rnadjorell': 3621, 'cyrus': 1016, 'naked': 2935, 'lmaooo': 2588, 'tony': 4460, 'fuk': 1660, 'holy': 2010, 'chocolate': 766, 'factory': 1444, 'laugh': 2472, 'anonymous': 145, 'follower': 1586, 'clearly': 802, 'annoying': 144, 'catfish': 673, 'slick': 3944, 'niggas': 3012, 'catching': 671, 'worry': 4904, 'insecure': 2174, 'handle': 1897, 'tent': 4310, 'share': 3836, 'hungry': 2080, 'problem': 3400, 'dese': 1111, 'lyin': 2679, 'sportscenter': 4077, 'eli': 1347, 'manning': 2712, 'senior': 3795, 'rb': 3507, 'anthony': 150, 'brown': 556, 'coach': 829, 'steve': 4124, 'quit': 3466, 'team': 4285, 'guess': 1848, 'also': 106, 'zero': 4988, 'impress': 2143, 'simple': 3902, 'control': 902, 'idk': 2107, 'blah': 417, 'cuh': 991, 'crazy': 951, 'gon': 1765, 'slice': 3943, 'kevin': 2359, 'hart': 1923, 'fine': 1526, 'dam': 1024, 'drink': 1239, 'later': 2464, 'thigh': 4374, 'front': 1639, 'ipad': 2197, 'friday': 1630, 'tropicalblanket': 4517, 'theomaxximus': 4355, 'yesterday': 4962, 'test': 4317, 'forever': 1598, 'voiceofdstreetz': 4712, 'taste': 4265, 'bobby': 454, 'live': 2578, 'workout': 4898, 'stoner': 4142, 'ride': 3603, 'bar': 300, 'uberfacts': 4577, 'sad': 3683, 'character': 720, 'death': 1063, 'ned': 2964, 'harbor': 1912, 'bus': 600, 'lana': 2450, 'rey': 3594, 'bitchy': 409, 'vineforthebyrd': 4689, 'explain': 1425, 'help': 1963, 'fighter': 1512, 'jihadi': 2280, 'aww': 257, 'avis': 246, 'together': 4449, 'ike': 2124, 'avi': 245, 'expose': 1427, 'size': 3922, 'exactly': 1413, 'healthy': 1943, 'kim': 2380, 'near': 2960, 'protect': 3420, 'annoy': 143, 'dope': 1214, 'loco': 2617, 'girlfriend': 1735, 'aye': 259, 'pullin': 3436, 'taught': 4269, 'bruno': 561, 'sike': 3898, 'beef': 349, 'rally': 3481, 'bottom': 494, 'person': 3245, 'pal': 3181, 'stack': 4091, 'till': 4428, 'yungmigo': 4985, 'hard': 1913, 'fucc': 1646, 'yee': 4953, 'rich': 3597, 'homie': 2018, 'homeboy': 2012, 'nicca': 2998, 'ewww': 1411, 'last': 2460, 'sunday': 4201, 'punch': 3439, 'face': 1441, 'strong': 4164, 'fresh': 1626, 'something': 4012, 'stank': 4100, 'great': 1816, 'texan': 4319, 'nd': 2958, 'dark': 1036, 'blonde': 440, 'several': 3815, 'seat': 3770, 'lane': 2454, 'left': 2503, 'deny': 1101, 'butt': 608, 'straight': 4146, 'bos': 487, 'corner': 918, 'gettin': 1718, 'weekend': 4795, 'betta': 374, 'street': 4152, 'lock': 2616, 'college': 845, 'military': 2823, 'different': 1139, 'story': 4145, 'ratchet': 3498, 'trainer': 4485, 'sniff': 3986, 'sosa': 4029, 'legit': 2512, 'prob': 3397, 'name': 2936, 'idea': 2102, 'mr': 2897, 'thug': 4413, 'phone': 3258, 'marry': 2725, 'demand': 1093, 'he': 1938, 'position': 3352, 'soul': 4030, 'bore': 483, 'suppose': 4211, 'sometimes': 4013, 'treasure': 4495, 'doubt': 1219, 'teeth': 4296, 'gold': 1760, 'chain': 702, 'cocaine': 832, 'thots': 4392, 'across': 26, 'driver': 1244, 'lie': 2540, 'put': 3450, 'tryin': 4529, 'score': 3747, 'mouth': 2894, 'trevaughnlg': 4502, 'tht': 4411, 'huh': 2070, 'redneck': 3534, 'victoria': 4681, 'distance': 1172, 'wack': 4724, 'uh': 4583, 'ban': 293, 'pay': 3217, 'dollar': 1198, 'rose': 3647, 'violet': 4694, 'blue': 445, 'window': 4860, 'fly': 1572, 'smack': 3957, 'peta': 3249, 'entire': 1375, 'medium': 2760, 'likely': 2550, 'mock': 2856, 'crybaby': 979, 'shy': 3889, 'hi': 1971, 'smile': 3968, 'dip': 1148, 'cracker': 942, 'soup': 4035, 'tim': 4429, 'nfl': 2997, 'already': 103, 'karma': 2339, 'sip': 3912, 'tea': 4280, 'gym': 1868, 'patron': 3211, 'arrest': 191, 'turn': 4542, 'thts': 4412, 'abortion': 6, 'idntwearcondoms': 2108, 'argue': 182, 'weed': 4793, 'public': 3430, 'cop': 913, 'watermelon': 4771, 'rapper': 3494, 'link': 2563, 'loud': 2654, 'tomorrow': 4454, 'barackobama': 302, 'pretend': 3381, 'um': 4588, 'cheese': 740, 'ah': 64, 'reason': 3522, 'photo': 3259, 'sole': 4003, 'baddest': 277, 'tweakin': 4551, 'shmurda': 3866, 'spook': 4075, 'neck': 2963, 'sorry': 4026, 'savage': 3721, 'kinky': 2392, 'press': 3379, 'oreos': 3146, 'nikki': 3022, 'screen': 3757, 'asap': 199, 'shoot': 3870, 'sumn': 4199, 'frfr': 1628, 'there': 4359, 'two': 4566, 'enjoy': 1371, 'metroadlib': 2788, 'colored': 848, 'contact': 899, 'poonsoaker': 3339, 'period': 3242, 'die': 1135, 'high': 1976, 'neva': 2987, 'sister': 3916, 'perfect': 3238, 'pretty': 3382, 'easily': 1299, 'behind': 353, 'nip': 3028, 'chaplin': 718, 'history': 1989, 'cool': 910, 'sure': 4212, 'source': 4037, 'news': 2993, 'broadcast': 547, 'nbc': 2956, 'abc': 2, 'cnn': 827, 'fox': 1608, 'etc': 1391, 'grudge': 1837, 'cigarette': 784, 'rn': 3620, 'brownie': 557, 'kind': 2385, 'someone': 4010, 'hurt': 2086, 'leave': 2498, 'yah': 4932, 'thang': 4332, 'slope': 3951, 'rugbysocklad': 3663, 'fit': 1537, 'gear': 1702, 'mate': 2736, 'action': 29, 'next': 2994, 'promise': 3410, 'fucker': 1653, 'celebrity': 689, 'local': 2614, 'saw': 3724, 'listen': 2571, 'rank': 3489, 'sneak': 3982, 'childish': 755, 'yasss': 4944, 'bestfriend': 371, 'remember': 3558, 'wop': 4892, 'omg': 3119, 'raw': 3503, 'french': 1625, 'nothin': 3059, 'free': 1621, 'write': 4917, 'panty': 3185, 'burrito': 599, 'catch': 669, 'whole': 4839, 'hardcore': 1914, 'mac': 2684, 'boil': 459, 'water': 4770, 'powder': 3364, 'fade': 1445, 'rite': 3617, 'trestiffer': 4501, 'chase': 730, 'newly': 2992, 'kno': 2408, 'job': 2289, 'become': 346, 'ainn': 76, 'feeling': 1496, 'bite': 410, 'dem': 1092, 'dea': 1056, 'albino': 84, 'order': 3143, 'chinese': 759, 'taco': 4241, 'lunch': 2674, 'elizabethbatman': 1351, 'soon': 4020, 'political': 3329, 'view': 4684, 'whore': 4841, 'devil': 1123, 'away': 252, 'child': 754, 'word': 4893, 'else': 1352, 'batter': 327, 'wee': 4792, 'cunt': 996, 'co': 828, 'ex': 1412, 'emma': 1357, 'isnt': 2208, 'nail': 2934, 'ive': 2221, 'urself': 4629, 'bleed': 426, 'realist': 3515, 'feelin': 1495, 'ape': 165, 'yank': 4935, 'dad': 1018, 'snapchat': 3979, 'believe': 356, 'fall': 1456, 'song': 4016, 'weeknd': 4796, 'alright': 104, 'download': 1222, 'eff': 1325, 'tired': 4440, 'foreign': 1597, 'dragon': 1227, 'goku': 1759, 'box': 502, 'ability': 3, 'via': 4670, 'bear': 339, 'detroit': 1122, 'wigger': 4852, 'unless': 4613, 'stab': 4090, 'heart': 1947, 'password': 3202, 'lucky': 2672, 'uncle': 4594, 'account': 20, 'imma': 2136, 'grandma': 1806, 'carl': 658, 'hey': 1969, 'ohio': 3106, 'draft': 1225, 'folk': 1584, 'afghanistan': 51, 'war': 4750, 'zone': 4995, 'hotter': 2053, 'hilarious': 1979, 'negro': 2970, 'dog': 1193, 'thrill': 4404, 'billy': 397, 'hillbilly': 1982, 'hahahahaha': 1880, 'jesus': 2268, 'murphy': 2914, 'liquor': 2568, 'chief': 751, 'chug': 781, 'alot': 100, 'tongue': 4457, 'jada': 2231, 'queen': 3460, 'latifah': 2465, 'rid': 3602, 'niece': 3005, 'married': 2724, 'bang': 297, 'heard': 1945, 'candy': 640, 'hope': 2037, 'lady': 2438, 'williams': 4855, 'number': 3072, 'eatin': 1306, 'either': 1335, 'dream': 1236, 'sell': 3788, 'men': 2771, 'mature': 2741, 'fool': 1589, 'prolly': 3408, 'cup': 997, 'hand': 1893, 'wolf': 4885, 'hair': 1882, 'flock': 1562, 'strike': 4159, 'dike': 1142, 'yg': 4965, 'unique': 4608, 'separate': 3802, 'phrase': 3260, 'wake': 4736, 'sir': 3914, 'manager': 2706, 'slit': 3950, 'funky': 1669, 'honkey': 2025, 'shout': 3878, 'macklemore': 2686, 'compare': 866, 'kfc': 2363, 'personality': 3247, 'goddamn': 1757, 'rise': 3615, 'yell': 4956, 'middle': 2808, 'surround': 4217, 'piss': 3286, 'waste': 4763, 'prayer': 3370, 'main': 2694, 'cinnamon': 785, 'apple': 171, 'sick': 3893, 'jonniesantana': 2303, 'feed': 1493, 'geno': 1711, 'yet': 4963, 'pick': 3262, 'dig': 1140, 'kingl': 2391, 'shorty': 3874, 'wizkhalifa': 4881, 'room': 3643, 'wave': 4773, 'tie': 4422, 'basement': 316, 'anthem': 149, 'accept': 15, 'larry': 2459, 'blind': 431, 'husband': 2087, 'late': 2462, 'tag': 4244, 'dyke': 1288, 'julia': 2315, 'robert': 3626, 'follow': 1585, 'brick': 537, 'mama': 2704, 'wendy': 4806, 'davis': 1049, 'scientist': 3746, 'create': 953, 'study': 4170, 'penguin': 3229, 'spank': 4047, 'correct': 920, 'pimpin': 3278, 'involve': 2192, 'pound': 3360, 'cake': 620, 'light': 2547, 'net': 2984, 'wat': 4764, 'van': 4645, 'waar': 4723, 'je': 2253, 'ik': 2123, 'dmx': 1184, 'kirk': 2393, 'franklin': 1616, 'neighbor': 2972, 'porch': 3346, 'broken': 549, 'knife': 2406, 'knowin': 2412, 'bra': 506, 'admit': 40, 'able': 4, 'since': 3906, 'loss': 2647, 'flame': 1545, 'yr': 4981, 'super': 4205, 'meanwhile': 2756, 'boat': 452, 'kendrick': 2355, 'lamar': 2446, 'base': 311, 'laughing': 2474, 'race': 3469, 'pistol': 3287, 'whip': 4833, 'club': 824, 'freestyle': 1623, 'timeline': 4432, 'belly': 358, 'justin': 2328, 'comment': 858, 'million': 2827, 'incredible': 2156, 'necessary': 2962, 'chicken': 749, 'selling': 3790, 'material': 2737, 'fast': 1475, 'tupac': 4539, 'remix': 3560, 'aka': 79, 'shall': 3830, 'thee': 4347, 'summer': 4198, 'shape': 3834, 'organic': 3147, 'wigga': 4851, 'florida': 1567, 'slow': 3953, 'classy': 798, 'football': 1592, 'player': 3305, 'shove': 3880, 'needle': 2967, 'dirt': 1152, 'finger': 1527, 'plain': 3295, 'chunky': 782, 'selfish': 3787, 'color': 847, 'student': 4168, 'callin': 624, 'pickin': 3264, 'sour': 4036, 'oriole': 3151, 'petty': 3251, 'band': 295, 'division': 1176, 'saint': 3686, 'nfc': 2996, 'hat': 1926, 'motherfucker': 2888, 'leftover': 2505, 'broad': 546, 'represent': 3568, 'road': 3623, 'giant': 1722, 'al': 81, 'antonio': 153, 'empty': 1363, 'hoes': 2001, 'lookin': 2636, 'low': 2664, 'virgin': 4695, 'regular': 3548, 'luv': 2677, 'ole': 3114, 'titty': 4443, 'phat': 3254, 'spic': 4060, 'biology': 401, 'spam': 4045, 'squad': 4084, 'jiggaboo': 2279, 'marriage': 2723, 'beyond': 379, 'fags': 1449, 'chris': 772, 'six': 3921, 'green': 1818, 'ranger': 3488, 'evil': 1407, 'burn': 597, 'question': 3462, 'rough': 3652, 'cooky': 909, 'yardie': 4939, 'horn': 2040, 'tryna': 4531, 'porn': 3348, 'smell': 3963, 'pus': 3447, 'flower': 1569, 'end': 1365, 'gunna': 1858, 'spear': 4053, 'chucker': 780, 'response': 3578, 'boys': 505, 'pull': 3435, 'jake': 2233, 'bell': 357, 'morning': 2883, 'miracle': 2836, 'today': 4446, 'swerve': 4229, 'retarded': 3583, 'total': 4468, 'diaper': 1130, 'image': 2133, 'redskins': 3536, 'joke': 2300, 'garden': 1690, 'flat': 1548, 'slut': 3955, 'cash': 665, 'star': 4101, 'far': 1469, 'playing': 3307, 'clipper': 812, 'ariana': 184, 'ayo': 261, 'handicapped': 1896, 'scalp': 3731, 'close': 816, 'triple': 4509, 'freak': 1618, 'rosestokoe': 3648, 'root': 3645, 'drama': 1230, 'johnson': 2297, 'catchin': 670, 'settle': 3812, 'hater': 1929, 'youtube': 4979, 'large': 2458, 'cu': 985, 'luke': 2673, 'lilbthebasedgod': 2552, 'wasnt': 4760, 'id': 2100, 'deck': 1069, 'combo': 852, 'keeper': 2352, 'rip': 3613, 'apart': 164, 'britney': 543, 'bible': 382, 'bright': 539, 'studio': 4169, 'mufuckin': 2906, 'crib': 960, 'skin': 3925, 'suit': 4196, 'assume': 216, 'lord': 2641, 'poor': 3341, 'whitey': 4836, 'bros': 552, 'fabulous': 1440, 'naa': 2928, 'nae': 2929, 'latinas': 2467, 'kardashian': 2336, 'mini': 2833, 'fridge': 1631, 'twat': 4549, 'pipe': 3284, 'wth': 4920, 'moment': 2864, 'rain': 3478, 'needy': 2968, 'sideline': 3895, 'facebook': 1442, 'campus': 633, 'fa': 1437, 'blowin': 444, 'tl': 4444, 'spare': 4048, 'leavin': 2499, 'fun': 1665, 'wilson': 4857, 'enough': 1372, 'wash': 4757, 'teabagger': 4281, 'state': 4110, 'tcot': 4277, 'teaparty': 4286, 'retweets': 3588, 'wet': 4813, 'obama': 3084, 'syria': 4234, 'embarrass': 1355, 'rangel': 3487, 'remain': 3557, 'bob': 453, 'fish': 1534, 'breaking': 524, 'ap': 163, 'mass': 2730, 'governor': 1794, 'baker': 286, 'wcvb': 4780, 'online': 3124, 'loop': 2638, 'bartender': 310, 'design': 1115, 'pain': 3177, 'gop': 1777, 'exist': 1419, 'creator': 954, 'pure': 3442, 'passion': 3201, 'blessjesus': 429, 'amos': 124, 'except': 1415, 'agree': 63, 'justice': 2327, 'court': 934, 'truth': 4526, 'crown': 972, 'air': 78, 'father': 1478, 'valuable': 4641, 'aunt': 236, 'mary': 2727, 'diet': 1137, 'bean': 336, 'california': 622, 'whine': 4829, 'muslim': 2917, 'otherwise': 3157, 'actor': 32, 'crack': 941, 'allow': 96, 'tuck': 4534, 'penis': 3230, 'boob': 471, 'hood': 2029, 'self': 3784, 'degenerateartist': 1085, 'bless': 427, 'fake': 1455, 'card': 652, 'yard': 4938, 'witch': 4874, 'turd': 4540, 'evolve': 1408, 'bo': 449, 'slang': 3935, 'ting': 4434, 'drum': 1254, 'swing': 4231, 'flick': 1557, 'alarm': 83, 'fire': 1530, 'downtown': 1223, 'hairy': 1885, 'scary': 3739, 'sense': 3797, 'sneeze': 3985, 'dutch': 1282, 'outside': 3162, 'dawn': 1051, 'city': 789, 'ebola': 1311, 'flu': 1571, 'policy': 3328, 'host': 2049, 'teabaggers': 4282, 'tail': 4245, 'earth': 1297, 'dayum': 1053, 'attention': 228, 'ijs': 2122, 'jig': 2276, 'firecashman': 1531, 'royal': 3655, 'october': 3090, 'trend': 4499, 'cus': 1008, 'montana': 2872, 'mo': 2853, 'glory': 1747, 'glizzy': 1744, 'feat': 1488, 'tha': 4330, 'happycolumbusday': 1910, 'injun': 2167, 'buffalo': 575, 'mess': 2781, 'huffingtonpost': 2067, 'pumpkin': 3438, 'spice': 4061, 'opening': 3133, 'serve': 3807, 'sample': 3700, 'vegan': 4649, 'upon': 4620, 'warrior': 4756, 'instead': 2178, 'ruin': 3664, 'others': 3156, 'leader': 2488, 'cruz': 977, 'lee': 2502, 'iu': 2219, 'champion': 708, 'hoosiernation': 2035, 'hoosier': 2034, 'cooler': 911, 'international': 2185, 'jk': 2287, 'lesbian': 2520, 'sport': 4076, 'grade': 1798, 'didnt': 1134, 'redskin': 3535, 'commie': 860, 'hunter': 2082, 'biden': 384, 'dust': 1280, 'liberal': 2532, 'iraq': 2199, 'gov': 1792, 'troop': 4515, 'defeat': 1078, 'isi': 2204, 'soldier': 4002, 'jihadis': 2281, 'rave': 3501, 'jesuschrist': 2269, 'shainarakia': 3828, 'offer': 3095, 'lingo': 2562, 'niccas': 2999, 'tryn': 4530, 'calm': 626, 'average': 244, 'ill': 2126, 'makin': 2700, 'plate': 3302, 'spanish': 4046, 'slutty': 3956, 'remind': 3559, 'century': 698, 'celebrate': 688, 'billion': 395, 'comb': 851, 'yer': 4960, 'beard': 340, 'wiggers': 4853, 'nowplaying': 3066, 'bt': 565, 'sky': 3931, 'radio': 3475, 'edit': 1319, 'twice': 4559, 'ian': 2096, 'wasp': 4761, 'texas': 4320, 'hundred': 2078, 'niqqa': 3030, 'november': 3062, 'ticket': 4420, 'continue': 900, 'iubb': 2220, 'finish': 1528, 'nba': 2955, 'pacer': 3174, 'indiana': 2160, 'valerie': 4639, 'though': 4395, 'breast': 525, 'solve': 4007, 'usually': 4634, 'andy': 133, 'politics': 3331, 'liv': 2577, 'talkin': 4253, 'smash': 3960, 'homies': 2019, 'focus': 1579, 'cloud': 821, 'hog': 2002, 'actual': 33, 'lab': 2431, 'natural': 2947, 'rome': 3636, 'redsox': 3537, 'knock': 2410, 'granny': 1808, 'fantastic': 1467, 'ready': 3513, 'sweep': 4226, 'yankees': 4937, 'yost': 4973, 'midnight': 2810, 'shoutout': 3879, 'salute': 3697, 'exit': 1420, 'niggahs': 3011, 'capotoheaven': 647, 'pineapple': 3280, 'soda': 3998, 'ay': 258, 'case': 664, 'west': 4810, 'virus': 4701, 'infection': 2163, 'orange': 3142, 'county': 931, 'carry': 660, 'tbt': 4276, 'ling': 2560, 'david': 1048, 'scandal': 3732, 'decide': 1067, 'wall': 4741, 'hurricane': 2084, 'deez': 1075, 'half': 1886, 'stroke': 4163, 'dump': 1275, 'extremely': 1432, 'zimmerman': 4990, 'creepy': 958, 'ag': 57, 'diversity': 1175, 'virginia': 4696, 'usa': 4630, 'peanut': 3222, 'butter': 609, 'four': 1607, 'point': 3322, 'scale': 3729, 'penny': 3231, 'shave': 3841, 'jeter': 2271, 'inning': 2171, 'fitting': 1539, 'sec': 3772, 'robertson': 3627, 'pitcher': 3289, 'astros': 217, 'series': 3804, 'nine': 3025, 'price': 3385, 'douche': 1220, 'joe': 2290, 'flex': 1555, 'earn': 1296, 'upper': 4621, 'strength': 4153, 'hmm': 1993, 'hr': 2060, 'sale': 3690, 'gardner': 1691, 'tanaka': 4260, 'rest': 3579, 'bounce': 495, 'michael': 2799, 'kay': 2344, 'pineda': 3281, 'tank': 4261, 'mlb': 2848, 'three': 4401, 'ray': 3504, 'build': 578, 'possible': 3356, 'egypt': 1332, 'vote': 4718, 'proud': 3422, 'la': 2430, 'weather': 4786, 'horrible': 2043, 'boom': 475, 'washington': 4758, 'space': 4043, 'horse': 2045, 'hello': 1961, 'ahead': 67, 'pocket': 3321, 'cancer': 638, 'foxnews': 1609, 'democrat': 1094, 'fair': 1451, 'network': 2986, 'liar': 2530, 'gouache': 1791, 'mt': 2902, 'tiki': 4426, 'peace': 3220, 'cody': 839, 'anyone': 157, 'famous': 1463, 'family': 1462, 'hang': 1900, 'ncaa': 2957, 'pierce': 3269, 'champ': 706, 'totally': 4469, 'metal': 2786, 'honky': 2027, 'wetback': 4814, 'morningjoe': 2884, 'prove': 3423, 'con': 875, 'emotion': 1360, 'decision': 1068, 'vinyl': 4691, 'witcha': 4875, 'ona': 3122, 'plastic': 3301, 'niggaz': 3013, 'android': 132, 'iphone': 2198, 'xxx': 4928, 'anal': 129, 'part': 3195, 'british': 542, 'bbw': 332, 'brazilian': 519, 'babe': 265, 'ebony': 1312, 'beach': 335, 'rub': 3658, 'tit': 4441, 'closeup': 818, 'squirt': 4088, 'asshole': 212, 'amateur': 112, 'milf': 2822, 'beauty': 345, 'japanese': 2242, 'desi': 1114, 'spicy': 4062, 'oriental': 3149, 'paki': 3180, 'un': 4590, 'deep': 1074, 'wild': 4854, 'ram': 3482, 'fisting': 1536, 'loose': 2639, 'cream': 952, 'cumming': 995, 'dildo': 1143, 'rubber': 3659, 'homemade': 2016, 'italian': 2211, 'latina': 2466, 'pump': 3437, 'lingerie': 2561, 'german': 1716, 'cock': 833, 'small': 3958, 'teen': 4294, 'toy': 4479, 'silver': 3901, 'xbox': 4926, 'imtoomuch': 2146, 'realtalk': 3521, 'truck': 4520, 'rejectedpeanutsspecials': 3550, 'grape': 1810, 'graduation': 1800, 'rate': 3499, 'president': 3378, 'clap': 795, 'precious': 3373, 'gook': 1774, 'rap': 3491, 'jimmy': 2283, 'mississippi': 2841, 'oppose': 3138, 'wage': 4728, 'labor': 2433, 'law': 2478, 'union': 4607, 'slavery': 3939, 'mike': 2815, 'ti': 4418, 'drrrruuuu': 1252, 'vega': 4648, 'everytime': 1405, 'kitchen': 2397, 'sing': 3907, 'rock': 3630, 'bid': 383, 'bud': 571, 'tn': 4445, 'plus': 3317, 'trip': 4508, 'visit': 4703, 'st': 4089, 'fin': 1522, 'killer': 2376, 'josh': 2306, 'smith': 3970, 'salad': 3689, 'vianawf': 4672, 'sheryl': 3849, 'crow': 970, 'dun': 1277, 'lotta': 2651, 'fck': 1485, 'orleans': 3152, 'coon': 912, 'condo': 882, 'yep': 4959, 'officiallyice': 3100, 'tom': 4452, 'mark': 2721, 'deaf': 1058, 'mc': 2747, 'kwagiheath': 2426, 'sh': 3822, 'congrats': 889, 'housewife': 2056, 'shitty': 3865, 'needa': 2966, 'ogbeard': 3103, 'yassss': 4945, 'hop': 2036, 'trap': 4491, 'ugh': 4580, 'simply': 3903, 'flawless': 1552, 'short': 3873, 'important': 2141, 'temporary': 4302, 'bullshit': 583, 'rude': 3660, 'worth': 4906, 'quarter': 3458, 'mimi': 2828, 'theonlyreed': 4356, 'lean': 2492, 'jusdahl': 2323, 'nope': 3048, 'hittin': 1992, 'course': 933, 'dmv': 1183, 'stomach': 4139, 'mufucka': 2905, 'yu': 4982, 'pose': 3351, 'vonshayeb': 4715, 'legend': 2509, 'screenshots': 3758, 'texting': 4324, 'thot': 4390, 'sayin': 3726, 'cookie': 908, 'mistake': 2843, 'lrt': 2669, 'burnt': 598, 'challenge': 704, 'callneeshcakey': 625, 'shady': 3825, 'lisforlex': 2569, 'tu': 4533, 'rookie': 3642, 'relax': 3553, 'hobbit': 1997, 'brittany': 544, 'itsnotharold': 2217, 'sellin': 3789, 'pork': 3347, 'chop': 771, 'grill': 1825, 'lay': 2482, 'kfromtheg': 2364, 'silly': 3900, 'cheap': 732, 'tacky': 4240, 'charlotte': 729, 'goon': 1775, 'bank': 299, 'stadium': 4092, 'kinda': 2386, 'buy': 612, 'bucket': 570, 'honestly': 2023, 'leash': 2495, 'snap': 3978, 'chat': 731, 'bffl': 381, 'shade': 3823, 'roster': 3650, 'nerve': 2981, 'dinner': 1147, 'nap': 2938, 'funnyjulius': 1672, 'honkie': 2026, 'shovel': 3881, 'bat': 324, 'bouta': 498, 'delete': 1088, 'worker': 4896, 'rachel': 3470, 'yass': 4943, 'vikkinosecrets': 4685, 'kinghorsedick': 2389, 'welp': 4804, 'science': 3745, 'step': 4122, 'valley': 4640, 'recruit': 3531, 'lahhh': 2443, 'bm': 448, 'guidance': 1849, 'miserable': 2838, 'thisisyoungdj': 4385, 'til': 4427, 'boyfriend': 504, 'sink': 3911, 'min': 2829, 'silence': 3899, 'vodka': 4710, 'bend': 363, 'midcityace': 2807, 'strip': 4161, 'mall': 2703, 'threesome': 4402, 'amaze': 113, 'answer': 147, 'genius': 1710, 'class': 796, 'se': 3763, 'el': 1336, 'de': 1055, 'jap': 2240, 'satan': 3714, 'making': 2701, 'project': 3407, 'harvard': 1924, 'chillin': 757, 'east': 1300, 'friends': 1635, 'unfollow': 4600, 'nugget': 3070, 'toss': 4467, 'curb': 998, 'ear': 1292, 'breath': 526, 'attitude': 229, 'hook': 2031, 'homeless': 2015, 'bubble': 568, 'minute': 2835, 'trunk': 4524, 'fasho': 1474, 'lmfaooooo': 2598, 'freshman': 1627, 'coat': 831, 'warm': 4753, 'flappy': 1546, 'wagggggie': 4729, 'skill': 3924, 'abstractlife': 9, 'alex': 88, 'kaep': 2332, 'spot': 4078, 'hank': 1904, 'attempt': 226, 'stone': 4141, 'awkward': 256, 'awesome': 254, 'vivalakristia': 4707, 'ion': 2194, 'dee': 1072, 'amandabynes': 111, 'own': 3169, 'thong': 4388, 'anthonycumia': 151, 'fail': 1450, 'arianagrande': 185, 'alcohol': 86, 'raise': 3479, 'mud': 2904, 'shark': 3837, 'bikini': 393, 'ashton': 202, 'anaconda': 128, 'none': 3042, 'goal': 1753, 'hun': 2077, 'smdh': 3962, 'victor': 4680, 'dance': 1030, 'technically': 4290, 'barryclerjuste': 309, 'boston': 491, 'basedchasen': 314, 'chad': 701, 'jordan': 2304, 'zebra': 4987, 'print': 3391, 'sheet': 3846, 'irrelevant': 2201, 'store': 4144, 'foreal': 1595, 'boosie': 477, 'rape': 3492, 'recognize': 3528, 'original': 3150, 'version': 4667, 'jose': 2305, 'ily': 2130, 'cramp': 943, 'difference': 1138, 'vsamone': 4721, 'blizzylc': 433, 'church': 783, 'absolutely': 8, 'police': 3327, 'king': 2387, 'clit': 814, 'eva': 1394, 'bobbybudnic': 456, 'rice': 3596, 'nervous': 2982, 'starve': 4108, 'africa': 53, 'banana': 294, 'plug': 3316, 'hole': 2006, 'desperate': 1118, 'keef': 2350, 'fill': 1517, 'breadtruckkbri': 521, 'burgerking': 596, 'watchlikeaking': 4768, 'fo': 1576, 'trynna': 4532, 'officially': 3099, 'neither': 2974, 'flight': 1558, 'tweak': 4550, 'messy': 2785, 'nb': 2954, 'tempt': 4303, 'wantin': 4749, 'tiny': 4436, 'derek': 1107, 'consider': 893, 'caymarieee': 680, 'whereyohussleat': 4826, 'mfs': 2794, 'shyt': 3891, 'boney': 467, 'chevy': 745, 'seriously': 3806, 'brandon': 516, 'motherfucking': 2890, 'waka': 4735, 'ctfu': 982, 'interest': 2182, 'slide': 3945, 'male': 2702, 'ciscoallday': 787, 'avoid': 247, 'support': 4209, 'heat': 1950, 'bandwagon': 296, 'rider': 3604, 'juicy': 2313, 'pant': 3184, 'grind': 1826, 'seem': 3782, 'corny': 919, 'available': 242, 'upload': 4619, 'ham': 1891, 'illegal': 2127, 'wana': 4746, 'liq': 2567, 'djzeeti': 1181, 'park': 3192, 'stick': 4130, 'brady': 508, 'slowly': 3954, 'weapon': 4783, 'goin': 1758, 'bare': 304, 'dnt': 1185, 'afraid': 52, 'commitment': 862, 'trade': 4481, 'negative': 2969, 'watching': 4767, 'wassup': 4762, 'deeiiggee': 1073, 'scratch': 3752, 'buddy': 573, 'normal': 3051, 'ad': 35, 'cleveland': 803, 'drmalvo': 1247, 'hidey': 1975, 'dusty': 1281, 'asf': 200, 'train': 4484, 'extra': 1430, 'lmfaoo': 2595, 'denna': 1100, 'dej': 1087, 'loaf': 2610, 'juice': 2312, 'edgarguillenjr': 1317, 'islamic': 2206, 'suspect': 4219, 'tool': 4462, 'whoop': 4840, 'private': 3394, 'killin': 2377, 'fabianmleal': 1439, 'opinion': 3136, 'huge': 2069, 'mental': 2773, 'dallas': 1023, 'freddiegibbs': 1620, 'channing': 715, 'fukkntyler': 1662, 'lightskin': 2548, 'mf': 2792, 'lmfaooo': 2596, 'ight': 2116, 'denial': 1099, 'wut': 4923, 'aux': 241, 'cord': 915, 'kellienehls': 2353, 'thekaosyatti': 4351, 'nigguh': 3016, 'lmfaooooooo': 2600, 'beyonce': 378, 'mermaid': 2779, 'obviously': 3088, 'dre': 1234, 'block': 435, 'glitteredinpink': 1743, 'treslyon': 4500, 'baltimore': 291, 'cavs': 678, 'offend': 3092, 'fml': 1575, 'homecoming': 2013, 'golden': 1761, 'basically': 319, 'circle': 786, 'uglyassayekay': 4582, 'ego': 1331, 'highclasscapri': 1977, 'definitely': 1083, 'hurry': 2085, 'mother': 2887, 'cole': 844, 'ooh': 3126, 'learn': 2494, 'spell': 4058, 'thirsty': 4383, 'snip': 3987, 'bol': 460, 'coo': 906, 'canadian': 636, 'hoser': 2047, 'adopt': 42, 'kit': 2396, 'kat': 2341, 'imtoblame': 2145, 'simplysoulful': 3904, 'jay': 2247, 'global': 1746, 'nut': 3075, 'ahh': 68, 'boutta': 499, 'common': 863, 'dave': 1046, 'chappelle': 719, 'sign': 3897, 'beany': 338, 'religion': 3556, 'zip': 4991, 'jaydillz': 2248, 'jergucci': 2263, 'gal': 1684, 'preach': 3372, 'thru': 4410, 'singing': 3909, 'juanndacut': 2310, 'lance': 2452, 'justkarahn': 2330, 'dummy': 1274, 'honey': 2024, 'pillow': 3275, 'confused': 888, 'majority': 2696, 'kattwilliams': 2342, 'alotta': 101, 'kaycimalynn': 2345, 'pro': 3396, 'kush': 2424, 'blunt': 446, 'brah': 510, 'wiz': 4879, 'howard': 2058, 'elbow': 1337, 'bosh': 488, 'ud': 4578, 'versace': 4660, 'clingy': 809, 'thought': 4396, 'brooklyn': 551, 'bound': 496, 'yung': 4984, 'jeezy': 2257, 'lmaoooo': 2589, 'nomo': 3039, 'ed': 1315, 'essay': 1389, 'een': 1324, 'disrespectful': 1169, 'term': 4311, 'leslieeeixta': 2521, 'mi': 2795, 'justdoitslow': 2325, 'figure': 1514, 'arm': 187, 'cuddle': 987, 'ahaha': 66, 'told': 4451, 'az': 263, 'purpose': 3445, 'marcus': 2718, 'google': 1773, 'fold': 1582, 'autocorrect': 239, 'magssca': 2692, 'deserve': 1113, 'foul': 1606, 'starburst': 4103, 'wardrobe': 4751, 'mostly': 2886, 'legging': 2511, 'guilty': 1851, 'somethin': 4011, 'polo': 3334, 'reality': 3516, 'mikediggem': 2816, 'final': 1523, 'walkin': 4739, 'daily': 1021, 'slim': 3947, 'waist': 4731, 'innocent': 2172, 'pot': 3358, 'gospel': 1783, 'lmfaooooooooo': 2602, 'amanda': 110, 'fizz': 1542, 'knew': 2404, 'disrespect': 1168, 'switch': 4232, 'hype': 2090, 'bread': 520, 'playoff': 3308, 'splash': 4070, 'onna': 3125, 'wednesday': 4791, 'daughter': 1045, 'activity': 31, 'pet': 3248, 'dare': 1034, 'jealousy': 2255, 'norapist': 3050, 'lamp': 2448, 'letter': 2525, 'monday': 2867, 'vehicle': 4654, 'uhhh': 4585, 'longer': 2634, 'spongebob': 4074, 'automatically': 240, 'troll': 4513, 'thatupsdude': 4343, 'darkskin': 1039, 'plmpcess': 3313, 'fashion': 1473, 'urban': 4625, 'holla': 2008, 'nooooo': 3047, 'brothas': 554, 'built': 580, 'survive': 4218, 'pony': 3336, 'bust': 605, 'iont': 2195, 'benefit': 364, 'gap': 1688, 'residinero': 3573, 'bruhhh': 559, 'driving': 1245, 'bark': 306, 'grandpa': 1807, 'express': 1428, 'nosey': 3056, 'gun': 1857, 'den': 1098, 'thuggin': 4414, 'breed': 528, 'slam': 3933, 'poppin': 3344, 'rylannwilliams': 3680, 'ago': 62, 'bun': 592, 'jam': 2234, 'bitchin': 408, 'shawty': 3843, 'aknadnrye': 80, 'textin': 4323, 'accidentally': 18, 'lolz': 2628, 'sexualgif': 3819, 'milk': 2824, 'kobebryant': 2418, 'wifey': 4848, 'constant': 895, 'fear': 1487, 'sooooo': 4023, 'destroy': 1121, 'gim': 1729, 'award': 250, 'sam': 3698, 'southsidevic': 4040, 'freaky': 1619, 'almost': 97, 'fckn': 1486, 'stevestfler': 4125, 'whiny': 4832, 'jealous': 2254, 'subtweet': 4180, 'braid': 511, 'havin': 1935, 'sittin': 3919, 'felt': 1500, 'town': 4478, 'westsideflee': 4812, 'cali': 621, 'taecocky': 4243, 'crash': 946, 'thadisreal': 4331, 'shopping': 3872, 'practice': 3367, 'thatindianbruh': 4340, 'snow': 3990, 'typical': 4574, 'costume': 923, 'nurse': 3074, 'bunny': 594, 'officer': 3097, 'ice': 2097, 'yas': 4941, 'therealmfast': 4362, 'clothing': 820, 'therealtenski': 4363, 'adam': 36, 'jones': 2302, 'lead': 2487, 'savanigga': 3722, 'lover': 2661, 'fell': 1497, 'draw': 1232, 'clothes': 819, 'knee': 2403, 'miami': 2797, 'brain': 512, 'tryhardsilva': 4528, 'weezy': 4798, 'verse': 4664, 'diamond': 1129, 'goofy': 1772, 'viridoesitt': 4700, 'community': 864, 'hoop': 2033, 'boring': 484, 'thanksgiving': 4336, 'turkey': 4541, 'vivalaquintaa': 4708, 'crush': 974, 'weight': 4799, 'jerk': 2264, 'whattheffacts': 4821, 'interview': 2187, 'worldstarfunny': 4901, 'ilovebamf': 2129, 'anyways': 161, 'gas': 1693, 'speak': 4050, 'shittin': 3864, 'hos': 2046, 'cotton': 924, 'picker': 3263, 'ignore': 2120, 'iz': 2222, 'blank': 419, 'thottie': 4393, 'giggle': 1727, 'vegetable': 4653, 'potato': 3359, 'stunt': 4172, 'purge': 3443, 'hunt': 2081, 'classic': 797, 'trippin': 4511, 'clock': 815, 'hour': 2054, 'count': 929, 'wreck': 4914, 'rant': 3490, 'azz': 264, 'boi': 458, 'throat': 4405, 'bri': 535, 'bitty': 412, 'charge': 722, 'turnt': 4544, 'shawn': 3842, 'jigg': 2277, 'vic': 4675, 'peep': 3227, 'square': 4086, 'backwards': 272, 'fb': 1484, 'nicer': 3001, 'ahhh': 69, 'excited': 1417, 'valentine': 4638, 'boa': 450, 'trippen': 4510, 'brave': 517, 'wonderful': 4888, 'surprise': 4215, 'diss': 1171, 'niglet': 3019, 'greg': 1821, 'hatin': 1930, 'slip': 3948, 'basketball': 321, 'scrappy': 3751, 'reunion': 3589, 'aight': 74, 'whattheflocka': 4822, 'morbidmermaid': 2880, 'bbluedreamm': 330, 'pouyalilpou': 3362, 'depressed': 1106, 'atl': 221, 'turnup': 4546, 'females': 1502, 'bonnoxxx': 469, 'level': 2528, 'lem': 2514, 'gross': 1830, 'texts': 4325, 'dumbass': 1273, 'sarcastic': 3711, 'chrisbrown': 773, 'secret': 3775, 'puff': 3432, 'paint': 3178, 'brush': 562, 'trigger': 4506, 'dora': 1215, 'table': 4237, 'manner': 2711, 'sloppy': 3952, 'daijahshardaee': 1020, 'whoever': 4838, 'dominiloka': 1203, 'appreciate': 174, 'age': 58, 'drphildontehue': 1251, 'idgaf': 2105, 'stair': 4095, 'eternalhbic': 1392, 'fabbymichelle': 1438, 'headphone': 1941, 'brian': 536, 'jigga': 2278, 'fav': 1480, 'purse': 3446, 'tx': 4567, 'digit': 1141, 'uniform': 4605, 'epic': 1376, 'organization': 3148, 'mj': 2847, 'smooth': 3974, 'criminal': 962, 'matter': 2740, 'divorce': 1177, 'cocky': 835, 'ref': 3538, 'twitpic': 4564, 'selfie': 3785, 'proven': 3424, 'shock': 3868, 'receive': 3525, 'album': 85, 'partner': 3197, 'crime': 961, 'solo': 4005, 'iamkrause': 2094, 'homo': 2020, 'lift': 2546, 'breakfast': 523, 'doc': 1187, 'anywhere': 162, 'bit': 405, 'harsh': 1922, 'statement': 4111, 'threw': 4403, 'strap': 4149, 'muhfuckas': 2907, 'wind': 4859, 'talm': 4257, 'spread': 4080, 'offense': 3093, 'sub': 4178, 'joytooawesome': 2308, 'justinbieber': 2329, 'bow': 500, 'keanabermudez': 2349, 'blast': 421, 'celibate': 691, 'boot': 478, 'girls': 1736, 'rico': 3601, 'hollywood': 2009, 'nicki': 3003, 'minaj': 2830, 'comfortable': 856, 'gut': 1862, 'emojis': 1359, 'pas': 3199, 'nooo': 3045, 'hill': 1980, 'book': 474, 'twin': 4560, 'ie': 2110, 'glass': 1742, 'irritate': 2203, 'lilduval': 2553, 'lilthickgawdess': 2554, 'slept': 3942, 'puke': 3434, 'respond': 3577, 'master': 2733, 'value': 4642, 'youre': 4976, 'greet': 1820, 'miilkkk': 2814, 'literally': 2573, 'wrestler': 4915, 'wen': 4805, 'wifed': 4847, 'hardly': 1917, 'harry': 1921, 'tbh': 4275, 'surprised': 4216, 'obamacare': 3085, 'website': 4789, 'boon': 476, 'dryer': 1259, 'nvm': 3079, 'tat': 4267, 'group': 1832, 'undercover': 4596, 'rihanna': 3609, 'wig': 4850, 'closet': 817, 'waymoflydenu': 4776, 'fleek': 1553, 'hug': 2068, 'shine': 3857, 'bathroom': 326, 'receipt': 3524, 'herd': 1965, 'association': 215, 'sorryimalex': 4027, 'souljaboy': 4032, 'kmichelle': 2402, 'dumpster': 1276, 'michelle': 2800, 'fruit': 1642, 'farm': 1471, 'system': 4235, 'meal': 2753, 'handsome': 1898, 'tend': 4305, 'key': 2361, 'anytime': 159, 'blaxxxican': 423, 'netflix': 2985, 'chuck': 779, 'fest': 1507, 'stage': 4093, 'unfollowed': 4601, 'atleast': 223, 'pizza': 3292, 'hahahah': 1878, 'mommy': 2866, 'trouble': 4518, 'honest': 2022, 'salty': 3696, 'bill': 394, 'verseunanswered': 4665, 'frozen': 1641, 'vivaalakatyy': 4705, 'accident': 17, 'crap': 945, 'tax': 4270, 'jew': 2273, 'lawyer': 2481, 'doctor': 1188, 'coast': 830, 'bone': 465, 'benz': 367, 'stress': 4154, 'zooyorkinit': 4998, 'guilt': 1850, 'nike': 3021, 'mic': 2798, 'safe': 3684, 'coffee': 840, 'humor': 2076, 'massage': 2731, 'rat': 3497, 'spa': 4042, 'grand': 1804, 'defiantly': 1082, 'fw': 1676, 'fuccin': 1648, 'traffic': 4482, 'understood': 4598, 'fucken': 1652, 'spray': 4079, 'jean': 2256, 'uggs': 4579, 'timbs': 4430, 'walmart': 4744, 'ron': 3639, 'social': 3995, 'aside': 205, 'mee': 2761, 'soo': 4019, 'august': 235, 'alsina': 105, 'ecstasy': 1314, 'stressful': 4155, 'defense': 1081, 'entertain': 1374, 'friendly': 1634, 'swag': 4221, 'killa': 2374, 'bein': 354, 'mentality': 2774, 'ina': 2147, 'cherry': 743, 'vet': 4668, 'sooo': 4021, 'proof': 3413, 'lesson': 2523, 'cost': 922, 'hmu': 1995, 'jack': 2223, 'ninja': 3026, 'turtle': 4547, 'leo': 2517, 'makeup': 2699, 'mission': 2840, 'std': 4116, 'owe': 3168, 'loyalty': 2668, 'grammar': 1803, 'santa': 3707, 'boo': 470, 'bike': 392, 'profile': 3404, 'struggle': 4165, 'doin': 1195, 'mann': 2710, 'asses': 211, 'blood': 441, 'charger': 723, 'chip': 761, 'limit': 2556, 'inbox': 2148, 'cryin': 980, 'stressin': 4156, 'askin': 207, 'ridin': 3605, 'steady': 4117, 'lovin': 2663, 'ayeeee': 260, 'gossip': 1784, 'attractive': 232, 'drip': 1241, 'central': 697, 'add': 37, 'grab': 1797, 'trey': 4503, 'hangin': 1901, 'mid': 2806, 'runnin': 3669, 'ko': 2416, 'success': 4184, 'ronnie': 3640, 'jackson': 2228, 'thirst': 4382, 'wifi': 4849, 'happiness': 1908, 'messin': 2784, 'tall': 4255, 'touchdown': 4471, 'eem': 1323, 'watchin': 4766, 'kick': 2367, 'form': 1601, 'privilege': 3395, 'attack': 225, 'scene': 3740, 'parent': 3190, 'instagram': 2177, 'title': 4442, 'yaself': 4942, 'drown': 1250, 'swim': 4230, 'message': 2782, 'provide': 3425, 'member': 2767, 'china': 758, 'pin': 3279, 'conservative': 892, 'krislisisms': 2423, 'naezus': 2930, 'earl': 1293, 'cage': 619, 'scroll': 3761, 'james': 2237, 'search': 3768, 'skip': 3927, 'idoclyfe': 2109, 'retire': 3584, 'afterwards': 56, 'olive': 3115, 'karate': 2335, 'argument': 183, 'era': 1381, 'wus': 4921, 'touch': 4470, 'squak': 4085, 'budden': 572, 'badge': 278, 'humbltonbanks': 2075, 'ankle': 140, 'sock': 3997, 'general': 1708, 'gift': 1725, 'soundcloud': 4034, 'tumblr': 4536, 'darkness': 1038, 'flavor': 1550, 'begin': 352, 'kentucky': 2357, 'amber': 115, 'worthless': 4907, 'indeed': 2157, 'camel': 628, 'buck': 569, 'deliver': 1090, 'wah': 4730, 'adult': 44, 'effect': 1326, 'offensive': 3094, 'sarahpalinusa': 3709, 'bait': 283, 'punk': 3440, 'speaking': 4052, 'avatar': 243, 'election': 1341, 'stylish': 4177, 'human': 2072, 'qaeda': 3453, 'market': 2722, 'faster': 1476, 'stock': 4136, 'however': 2059, 'putin': 3451, 'completely': 871, 'country': 930, 'pac': 3172, 'lonely': 2631, 'therealalonig': 4360, 'cross': 969, 'arrive': 192, 'load': 2608, 'meaning': 2755, 'mango': 2708, 'salsa': 3693, 'christmas': 776, 'mile': 2819, 'philly': 3256, 'dc': 1054, 'ceeross': 687, 'mil': 2818, 'dez': 1125, 'oz': 3171, 'arizona': 186, 'blocked': 436, 'nobeeetch': 3032, 'ferguson': 1506, 'egg': 1328, 'scrap': 3750, 'prison': 3393, 'pollo': 3333, 'tower': 4477, 'gilbert': 1728, 'btown': 566, 'skull': 3930, 'email': 1354, 'address': 39, 'guard': 1846, 'skank': 3923, 'wid': 4844, 'understand': 4597, 'michigan': 2802, 'dey': 1124, 'virginity': 4698, 'outchea': 3160, 'heel': 1954, 'smellin': 3964, 'increase': 2155, 'moke': 2860, 'snitch': 3988, 'awake': 249, 'yay': 4948, 'hopefully': 2039, 'wheel': 4824, 'fugly': 1659, 'prude': 3426, 'match': 2735, 'relate': 3551, 'leak': 2491, 'generation': 1709, 'specie': 4055, 'area': 180, 'percent': 3237, 'truly': 4523, 'awful': 255, 'sea': 3764, 'discuss': 1159, 'delicious': 1089, 'busboysandpoets': 601, 'filthy': 1521, 'kylegotjokes': 2428, 'gorgeous': 1780, 'cheating': 734, 'clear': 801, 'choice': 767, 'crusty': 976, 'hire': 1987, 'bryan': 563, 'starbucks': 4102, 'huntermoore': 2083, 'bowl': 501, 'graham': 1801, 'unit': 4609, 'fucktyler': 1658, 'humanity': 2073, 'stain': 4094, 'impression': 2144, 'blessing': 428, 'ground': 1831, 'beast': 341, 'fuc': 1645, 'republican': 3569, 'foolish': 1590, 'laff': 2442, 'arrogant': 193, 'belt': 360, 'praise': 3368, 'convince': 904, 'less': 2522, 'emotional': 1361, 'sissy': 3915, 'tan': 4259, 'doll': 1196, 'somewhere': 4014, 'moneydriven': 2869, 'kickin': 2368, 'showin': 3884, 'earlier': 1294, 'rhyme': 3595, 'gag': 1681, 'amendment': 118, 'slave': 3938, 'anchor': 130, 'gaga': 1682, 'huhwhatsacondom': 2071, 'scarf': 3738, 'phil': 3255, 'bug': 576, 'blanket': 420, 'sweat': 4224, 'clam': 793, 'comedy': 855, 'sentedcruz': 3799, 'themayormatt': 4352, 'shiner': 3858, 'adolfhibsta': 41, 'names': 2937, 'nigglet': 3015, 'fro': 1638, 'cell': 692, 'internet': 2186, 'peter': 3250, 'capodaasshole': 646, 'income': 2153, 'rob': 3625, 'caption': 649, 'protest': 3421, 'pig': 3272, 'island': 2207, 'background': 269, 'doesnt': 1192, 'skirt': 3928, 'pan': 3182, 'ampowerblog': 127, 'whining': 4831, 'lyric': 2681, 'dismiss': 1167, 'mood': 2874, 'disgust': 1163, 'smd': 3961, 'credit': 956, 'perfectly': 3239, 'guitar': 1853, 'peckerwood': 3225, 'highly': 1978, 'elementary': 1344, 'among': 123, 'livin': 2581, 'invite': 2191, 'luck': 2671, 'join': 2298, 'army': 189, 'jungle': 2319, 'note': 3058, 'welcome': 4801, 'accord': 19, 'jeff': 2258, 'forreal': 1603, 'atblackface': 218, 'mrmooncricket': 2899, 'uncleunco': 4595, 'bobbybotsods': 455, 'fuckthemallcops': 1656, 'gene': 1707, 'schedule': 3741, 'butthurt': 610, 'johnny': 2295, 'thoe': 4387, 'omm': 3121, 'suffer': 4192, 'living': 2582, 'moan': 2854, 'yelling': 4957, 'cdfu': 685, 'throb': 4406, 'sucker': 4188, 'vice': 4676, 'dats': 1044, 'shes': 3850, 'shame': 3833, 'grindin': 1827, 'thou': 4394, 'mia': 2796, 'belong': 359, 'omfg': 3118, 'winner': 4864, 'taliban': 4250, 'rug': 3662, 'legal': 2508, 'dear': 1062, 'mail': 2693, 'pile': 3273, 'salon': 3692, 'harder': 1916, 'comeback': 854, 'jet': 2270, 'kyoppcoalition': 2429, 'pointless': 3323, 'mick': 2803, 'foley': 1583, 'playa': 3304, 'bidenshairplugs': 385, 'victory': 4682, 'disgrace': 1161, 'bomb': 462, 'billperiman': 396, 'muzzies': 2924, 'slay': 3940, 'poop': 3340, 'ginzo': 1732, 'copy': 914, 'loveit': 2659, 'suckin': 4189, 'ofay': 3091, 'campaign': 632, 'beg': 351, 'service': 3808, 'irish': 2200, 'regret': 3547, 'trailer': 4483, 'fry': 1643, 'steak': 4118, 'mash': 2728, 'corn': 917, 'rollin': 3635, 'crew': 959, 'cd': 684, 'bump': 590, 'banger': 298, 'busy': 606, 'lately': 2463, 'brazil': 518, 'tour': 4474, 'bloggerboxing': 439, 'jacob': 2229, 'greedy': 1817, 'status': 4113, 'lololol': 2626, 'inbred': 2149, 'shop': 3871, 'bombfantasyyy': 463, 'pearl': 3223, 'current': 1003, 'throbbing': 4407, 'acid': 24, 'ignorant': 2119, 'brandnewandrew': 515, 'degree': 1086, 'couch': 925, 'sight': 3896, 'describe': 1110, 'fault': 1479, 'citizen': 788, 'breesindacut': 529, 'realize': 3517, 'comin': 857, 'bretvondehl': 534, 'tap': 4262, 'niet': 3006, 'moet': 2859, 'briscoefunnyguy': 541, 'hipster': 1986, 'center': 696, 'bvb': 614, 'fob': 1578, 'supporter': 4210, 'spoil': 4072, 'nog': 3035, 'kike': 2372, 'sand': 3703, 'ultimate': 4587, 'hall': 1888, 'fame': 1460, 'logic': 2619, 'info': 2165, 'hooker': 2032, 'thursday': 4417, 'cap': 645, 'career': 655, 'ballot': 290, 'roast': 3624, 'cheek': 737, 'sore': 4025, 'crisis': 964, 'cbsthismorning': 681, 'norahodonnell': 3049, 'charlierose': 728, 'engage': 1368, 'nowhere': 3064, 'harden': 1915, 'spur': 4082, 'cheefpolo': 736, 'terrify': 4313, 'mfa': 2793, 'dime': 1144, 'waddup': 4726, 'throwin': 4409, 'mouf': 2891, 'log': 2618, 'wussup': 4922, 'umm': 4589, 'eyebrow': 1434, 'elissa': 1349, 'leprechaun': 2519, 'beyonc': 377, 'maar': 2683, 'er': 1380, 'tough': 4472, 'african': 54, 'lebron': 2500, 'plan': 3296, 'reply': 3566, 'chaldeancutie': 703, 'killsheredon': 2379, 'defend': 1079, 'hotel': 2052, 'chandailbailey': 710, 'steezeyflow': 4121, 'charlesbwaffle': 726, 'revkahjc': 3592, 'cantucimblonde': 644, 'kacado': 2331, 'government': 1793, 'desert': 1112, 'barack': 301, 'greyyygoose': 1823, 'hypocrite': 2092, 'vegeta': 4652, 'snack': 3975, 'chickencoleman': 750, 'td': 4278, 'chiefkeef': 752, 'fuzzy': 1675, 'chink': 760, 'goat': 1754, 'snd': 3981, 'vampire': 4643, 'motherfuckin': 2889, 'math': 2738, 'pee': 3226, 'pathetic': 3206, 'btw': 567, 'fwm': 1677, 'mikey': 2817, 'nascar': 2940, 'diego': 1136, 'ooo': 3129, 'moose': 2878, 'breh': 532, 'byeeeee': 616, 'stole': 4138, 'complexmag': 872, 'league': 2490, 'apparently': 169, 'fever': 1508, 'talker': 4252, 'elchavaloko': 1338, 'saucygyro': 3718, 'threat': 4399, 'kitten': 2398, 'plot': 3314, 'twist': 4562, 'style': 4176, 'lake': 2444, 'daniel': 1032, 'got': 1786, 'poll': 3332, 'jewjitsugrl': 2275, 'definition': 1084, 'willing': 4856, 'datboyrayt': 1042, 'awe': 253, 'eh': 1333, 'hahah': 1876, 'especially': 1387, 'papoose': 3188, 'plano': 3299, 'pleased': 3310, 'lupefiasco': 2675, 'chicago': 747, 'idiot': 2106, 'deeznutsdoe': 1076, 'defendwallst': 1080, 'alike': 91, 'knw': 2415, 'derekisnormal': 1108, 'yoga': 4967, 'company': 865, 'destrothenoble': 1120, 'nekolin': 2976, 'pink': 3282, 'naturally': 2948, 'hunger': 2079, 'dirrttyydan': 1151, 'merry': 2780, 'speech': 4056, 'dizzybala': 1178, 'sellout': 3791, 'clan': 794, 'gots': 1789, 'legendary': 2510, 'pleasure': 3311, 'language': 2456, 'dana': 1029, 'lb': 2485, 'arsenal': 194, 'shid': 3853, 'cuff': 988, 'apology': 167, 'fee': 1492, 'gullible': 1854, 'topic': 4464, 'yasssss': 4946, 'unknown': 4612, 'whats': 4819, 'rag': 3476, 'eatmytweetzz': 1308, 'verizon': 4657, 'elite': 1350, 'can': 634, 'personal': 3246, 'location': 2615, 'lizard': 2583, 'op': 3131, 'ericwithahotdad': 1383, 'freedom': 1622, 'wearin': 4785, 'armor': 188, 'border': 482, 'jumper': 2317, 'sauce': 3717, 'overrate': 3166, 'everybodyhatesx': 1401, 'fried': 1632, 'feather': 1489, 'english': 1370, 'tackle': 4239, 'accurate': 21, 'hav': 1932, 'superior': 4207, 'femshaveballz': 1505, 'witness': 4878, 'terrorism': 4315, 'commit': 861, 'crook': 968, 'ben': 361, 'voor': 4717, 'chanelisabeth': 712, 'mutt': 2922, 'running': 3670, 'pom': 3335, 'flyoutchase': 1574, 'francoiskilljoy': 1613, 'frankiejgrande': 1615, 'ew': 1409, 'eddie': 1316, 'wnba': 4882, 'negros': 2971, 'mook': 2875, 'fucktravonn': 1657, 'knowledge': 2413, 'progress': 3406, 'nun': 3073, 'gopblackchick': 1778, 'samzbikowski': 3701, 'flood': 1563, 'target': 4264, 'prime': 3389, 'gabby': 1680, 'drizzy': 1246, 'breezy': 530, 'latino': 2468, 'jewish': 2274, 'neighborhood': 2973, 'wipe': 4867, 'sharkeisha': 3838, 'sneaky': 3984, 'gingerdemoness': 1731, 'nite': 3031, 'sho': 3867, 'nahh': 2933, 'gladvillian': 1741, 'bacon': 273, 'crust': 975, 'grant': 1809, 'pray': 3369, 'dye': 1287, 'seek': 3781, 'sandwich': 3705, 'gossipcop': 1785, 'blk': 434, 'bey': 376, 'screw': 3759, 'borrow': 486, 'moon': 2876, 'grizzboadams': 1829, 'wyattnuckels': 4924, 'fart': 1472, 'yoself': 4972, 'og': 3102, 'standard': 4099, 'bij': 391, 'foam': 1577, 'multiple': 2909, 'rare': 3495, 'microwave': 2805, 'muzzie': 2923, 'interesting': 2184, 'het': 1968, 'lazy': 2484, 'ook': 3127, 'heauxmersimpson': 1951, 'heilsidious': 1956, 'imo': 2140, 'clue': 825, 'flow': 1568, 'pokemon': 3325, 'rocket': 3631, 'unfollowing': 4602, 'dammit': 1026, 'reach': 3509, 'crist': 965, 'shaft': 3827, 'toilet': 4450, 'american': 120, 'ship': 3860, 'elephant': 1345, 'hmmm': 1994, 'mix': 2844, 'iggyazalea': 2115, 'acknowledge': 25, 'bootyacid': 481, 'bio': 400, 'lemon': 2515, 'feminist': 1504, 'nazi': 2953, 'hah': 1874, 'inch': 2150, 'channel': 714, 'although': 107, 'concede': 876, 'dwight': 1285, 'expensive': 1423, 'wedding': 4790, 'wallet': 4743, 'filth': 1520, 'afford': 50, 'louis': 2656, 'ck': 791, 'shin': 3856, 'joey': 2292, 'brad': 507, 'hawk': 1936, 'jar': 2243, 'incident': 2151, 'san': 3702, 'amount': 125, 'itsmander': 2215, 'dink': 1146, 'thatslutadrian': 4342, 'eliminate': 1348, 'better': 375, 'wannabe': 4747, 'xdsmooth': 4927, 'jayreidofficial': 2249, 'jbilinovich': 2251, 'jmuggaaa': 2288, 'anti': 152, 'function': 1666, 'hustle': 2088, 'thatangrynigga': 4337, 'nearly': 2961, 'rivera': 3619, 'core': 916, 'york': 4971, 'wizard': 4880, 'agent': 61, 'mullet': 2908, 'lompartayy': 2629, 'katy': 2343, 'cocksucker': 834, 'jacobbbacker': 2230, 'tyler': 4571, 'article': 196, 'pressure': 3380, 'jamesokeefeiii': 2238, 'illiterate': 2128, 'moron': 2885, 'energy': 1367, 'electric': 1342, 'maker': 2698, 'nephew': 2978, 'dan': 1028, 'pair': 3179, 'jawshoeeahhh': 2246, 'spy': 4083, 'lolol': 2625, 'jenny': 2262, 'rarely': 3496, 'height': 1955, 'ladygaga': 2439, 'traitor': 4487, 'jimnorton': 2284, 'jim': 2282, 'judge': 2311, 'pastor': 3204, 'allah': 93, 'po': 3320, 'benghazi': 366, 'victim': 4679, 'wax': 4774, 'swallow': 4222, 'nyc': 3081, 'yokel': 4968, 'sensitive': 3798, 'zoom': 4997, 'option': 3141, 'carter': 662, 'gm': 1751, 'besides': 369, 'jameis': 2236, 'aware': 251, 'dodger': 1190, 'national': 2945, 'dread': 1235, 'kik': 2371, 'prepare': 3376, 'jundishes': 2318, 'southern': 4039, 'mute': 2921, 'vile': 4686, 'memphis': 2770, 'wine': 4861, 'nappy': 2939, 'nowadays': 3063, 'knicks': 2405, 'killquana': 2378, 'klsouth': 2401, 'surgery': 4214, 'cheer': 739, 'click': 805, 'mornin': 2882, 'bigotry': 389, 'racism': 3472, 'kensuttling': 2356, 'frank': 1614, 'paper': 3187, 'ohh': 3105, 'apply': 172, 'thunder': 4416, 'bummy': 589, 'floyd': 1570, 'kevinthegee': 2360, 'kimberlyyaye': 2382, 'toughen': 4473, 'kingjames': 2390, 'allen': 94, 'bail': 282, 'pinto': 3283, 'koolqueef': 2421, 'angel': 134, 'transformer': 4490, 'pole': 3326, 'puppy': 3441, 'saiyan': 3687, 'volunteer': 4713, 'guinea': 1852, 'scrawny': 3753, 'kxrxsxb': 2427, 'scare': 3736, 'ladyvodkax': 2441, 'stomp': 4140, 'extreme': 1431, 'condition': 881, 'lanebelgarde': 2455, 'laurenjauregui': 2476, 'prettykells': 3383, 'burger': 595, 'waffle': 4727, 'welfare': 4802, 'flatter': 1549, 'liamgeraldshone': 2529, 'dsaend': 1260, 'lifeasking': 2544, 'pity': 3291, 'bush': 602, 'hearing': 1946, 'dramatic': 1231, 'liltunechi': 2555, 'rosaalbae': 3646, 'littlenamms': 2576, 'travel': 4494, 'liveitupjersey': 2580, 'psycho': 3427, 'mediacrooks': 2758, 'terrorist': 4316, 'delusional': 1091, 'bay': 329, 'parker': 3193, 'louievree': 2655, 'crayon': 949, 'hostess': 2050, 'mob': 2855, 'unicorncowboy': 4604, 'uk': 4586, 'lmaooooo': 2590, 'whatsoever': 4820, 'wing': 4862, 'exotic': 1421, 'security': 3777, 'battle': 328, 'code': 838, 'wojtata': 4884, 'coconut': 836, 'oil': 3108, 'grey': 1822, 'icy': 2099, 'matt': 2739, 'zombie': 4994, 'goth': 1788, 'critical': 966, 'glove': 1748, 'crystal': 981, 'softestmuffin': 4000, 'torahblaze': 4466, 'cure': 999, 'fewjr': 1509, 'canada': 635, 'dj': 1179, 'stranger': 4148, 'danger': 1031, 'jump': 2316, 'cheesy': 742, 'weet': 4797, 'per': 3236, 'stupidity': 4175, 'depress': 1105, 'thousand': 4398, 'priority': 3392, 'grass': 1812, 'septic': 3803, 'interested': 2183, 'harass': 1911, 'wouldnt': 4910, 'bastard': 323, 'hitler': 1991, 'meth': 2787, 'barely': 305, 'stalk': 4096, 'griffin': 1824, 'twinkie': 4561, 'flesh': 1554, 'riff': 3606, 'reserve': 3572, 'present': 3377, 'screamin': 3755, 'sup': 4204, 'tiger': 4424, 'spike': 4064, 'regardless': 3545, 'imagine': 2135, 'gotten': 1790, 'kayysavage': 2347, 'fuccing': 1649, 'seattle': 3771, 'vs': 4720, 'elect': 1340, 'terrible': 4312, 'trannies': 4488, 'dealer': 1060, 'nature': 2949, 'wacko': 4725, 'mrpoonsoaker': 2900, 'geez': 1704, 'bake': 284, 'tipsy': 4438, 'relevant': 3555, 'equal': 1378, 'opportunity': 3137, 'trophy': 4516, 'blockhead': 437, 'freeze': 1624, 'random': 3484, 'notch': 3057, 'nyrkelsmads': 3083, 'eats': 1309, 'wire': 4868, 'patty': 3213, 'drippin': 1242, 'gta': 1839, 'permission': 3243, 'episode': 1377, 'piersmorgan': 3271, 'waive': 4734, 'kelly': 2354, 'upset': 4623, 'comparison': 867, 'pt': 3428, 'jdickerson': 2252, 'apologize': 166, 'sin': 3905, 'nyjusdntgaf': 3082, 'tellin': 4299, 'duck': 1262, 'duckydynamo': 1263, 'noodle': 3044, 'smelly': 3965, 'flip': 1559, 'wendydavistexas': 4807, 'stockboy': 4137, 'oskzilla': 3154, 'shadow': 3824, 'pool': 3338, 'fed': 1491, 'govt': 1795, 'whose': 4842, 'aim': 75, 'split': 4071, 'proseish': 3419, 'gz': 1869, 'george': 1715, 'pacdagoat': 3173, 'gorilla': 1781, 'pancake': 3183, 'lllexiss': 2584, 'deport': 1104, 'pennythegoat': 3232, 'mets': 2789, 'favor': 1482, 'nashville': 2941, 'prefer': 3374, 'wa': 4722, 'arabic': 179, 'giraffe': 1733, 'regard': 3544, 'vick': 4677, 'flaw': 1551, 'sa': 3681, 'msnbc': 2901, 'prophzilla': 3417, 'quickly': 3464, 'quad': 3455, 'pm': 3319, 'curly': 1002, 'somehow': 4009, 'strawberry': 4150, 'hispanic': 1988, 'juss': 2324, 'laughin': 2473, 'lying': 2680, 'element': 1343, 'en': 1364, 'nawl': 2952, 'dolo': 1199, 'midget': 2809, 'lml': 2604, 'realniggasherm': 3519, 'realskipbayless': 3520, 'constantly': 896, 'qb': 3454, 'talkn': 4254, 'society': 3996, 'fellow': 1499, 'camp': 631, 'spring': 4081, 'reaction': 3511, 'pecker': 3224, 'lit': 2572, 'des': 1109, 'moma': 2863, 'rickiroma': 3599, 'tone': 4456, 'drag': 1226, 'recycle': 3532, 'bin': 398, 'raider': 3477, 'fancy': 1466, 'rihannahasaids': 3610, 'ye': 4949, 'nra': 3067, 'horny': 2041, 'fist': 1535, 'litter': 2574, 'garbage': 1689, 'obvious': 3087, 'russelltpot': 3674, 'enemy': 1366, 'bruise': 560, 'suggest': 4194, 'concert': 879, 'dice': 1132, 'rig': 3607, 'vacation': 4636, 'plane': 3297, 'return': 3585, 'notice': 3061, 'martin': 2726, 'salacioussully': 3688, 'shift': 3854, 'careful': 656, 'sammytbh': 3699, 'skit': 3929, 'bee': 348, 'schulzgrayson': 3744, 'phase': 3253, 'constitution': 897, 'tedcruz': 4291, 'lls': 2585, 'saudi': 3719, 'arabia': 178, 'sentimental': 3801, 'confront': 886, 'trill': 4507, 'guarantee': 1845, 'disgraceful': 1162, 'christian': 775, 'unlike': 4614, 'scum': 3762, 'threaten': 4400, 'birth': 403, 'alien': 90, 'israel': 2209, 'hypocrisy': 2091, 'slant': 3936, 'stuck': 4166, 'artist': 197, 'situation': 3920, 'texted': 4322, 'hangout': 1902, 'golf': 1764, 'stevestockmantx': 4126, 'propose': 3418, 'pack': 3175, 'friggin': 1636, 'education': 1322, 'voter': 4719, 'knob': 2409, 'gum': 1855, 'havent': 1934, 'tweeting': 4554, 'camera': 629, 'ignorance': 2118, 'due': 1267, 'explode': 1426, 'mickey': 2804, 'mouse': 2893, 'england': 1369, 'patriot': 3210, 'upgrade': 4618, 'kushdaddycorr': 2425, 'cease': 686, 'taylor': 4273, 'eating': 1307, 'resist': 3574, 'tastemygayness': 4266, 'vibing': 4674, 'tayscalf': 4274, 'paris': 3191, 'effort': 1327, 'label': 2432, 'eachother': 1289, 'terrorfranchise': 4314, 'moor': 2877, 'bronx': 550, 'badass': 275, 'nick': 3002, 'melo': 2765, 'thatboyado': 4338, 'mayweather': 2746, 'error': 1385, 'concern': 878, 'rebel': 3523, 'slippery': 3949, 'thejadednyer': 4349, 'faith': 1453, 'economy': 1313, 'successful': 4185, 'steelers': 4120, 'dome': 1202, 'thenudesgod': 4354, 'memory': 2769, 'river': 3618, 'gtf': 1840, 'payback': 3218, 'popular': 3345, 'theseanyv': 4366, 'subtweeting': 4181, 'hashtag': 1925, 'gator': 1695, 'react': 3510, 'kkk': 2400, 'ashamed': 201, 'pls': 3315, 'yal': 4933, 'bench': 362, 'rescue': 3571, 'gary': 1692, 'le': 2486, 'france': 1612, 'conference': 884, 'april': 177, 'gain': 1683, 'solid': 4004, 'truenovacane': 4522, 'gonn': 1766, 'magic': 2690, 'westside': 4811, 'cj': 790, 'lien': 2541, 'pickle': 3265, 'faggots': 1448, 'cont': 898, 'promote': 3411, 'film': 1518, 'olympics': 3117, 'audience': 233, 'roof': 3641, 'magical': 2691, 'native': 2946, 'destiny': 1119, 'mlk': 2849, 'disease': 1160, 'agenda': 60, 'whatchu': 4817, 'tease': 4289, 'fella': 1498, 'insult': 2179, 'smokin': 3972, 'sun': 4200, 'recommend': 3529, 'mannn': 2713, 'peyton': 3252, 'smiley': 3969, 'andrew': 131, 'training': 4486, 'asleep': 208, 'nuh': 3071, 'yaremisxo': 4940, 'neymar': 2995, 'yeiiowbang': 4955, 'houston': 2057, 'wayne': 4778, 'row': 3654, 'guala': 1844, 'yourdudeferg': 4975, 'thoughtsofrandy': 4397, 'demon': 1096, 'talmbout': 4258, 'dot': 1217, 'clip': 811, 'dy': 1286, 'zhugstubble': 4989, 'zitlalyl': 4992, 'attract': 231, 'oops': 3130, 'indian': 2159, 'lor': 2640, 'wyd': 4925, 'reg': 3543, 'aha': 65, 'morgan': 2881, 'influence': 2164, 'dro': 1248, 'ballin': 289, 'kanyewest': 2334, 'convo': 905, 'heartless': 1949, 'sc': 3728, 'elevator': 1346, 'jason': 2244, 'bleach': 424, 'hoodie': 2030, 'yolo': 4969, 'ashy': 203, 'masturbate': 2734, 'accent': 14, 'glow': 1749, 'correction': 921, 'five': 1540, 'acceptable': 16, 'jr': 2309, 'authority': 238, 'noise': 3037, 'massive': 2732, 'veteran': 4669, 'manziel': 2716, 'joeylattime': 2293, 'politician': 3330, 'witchu': 4876, 'sarah': 3708, 'owner': 3170, 'foxx': 1610, 'scared': 3737, 'sbsylvester': 3727, 'kitty': 2399, 'bieber': 386, 'islam': 2205, 'chipotle': 762, 'baskgod': 322, 'clowney': 823, 'pirate': 3285, 'ginger': 1730, 'leopard': 2518, 'patience': 3207, 'positive': 3353, 'bigshaadswerver': 390, 'dunk': 1278, 'gemini': 1706, 'confirm': 885, 'agency': 59, 'itch': 2212, 'cub': 986, 'addict': 38, 'alabama': 82, 'forehead': 1596, 'donald': 1206, 'sterling': 4123, 'danny': 1033, 'stamp': 4097, 'board': 451, 'uber': 4576, 'taxi': 4271, 'muscle': 2915, 'lanahudsonnn': 2451, 'charcoal': 721, 'bumblebee': 588, 'clutch': 826, 'whiney': 4830, 'prevent': 3384, 'jamaica': 2235, 'wh': 4815, 'homegirl': 2014, 'approve': 176, 'former': 1602, 'anime': 139, 'thumb': 4415, 'collegefession': 846, 'gig': 1726, 'gordon': 1779, 'alert': 87, 'ann': 141, 'rot': 3651, 'curl': 1001, 'chest': 744, 'daisymcgarr': 1022, 'vomit': 4714, 'stare': 4104, 'davegetnmoney': 1047, 'capture': 650, 'whilst': 4828, 'lost': 2648, 'fully': 1664, 'denytheprophecy': 1102, 'singer': 3908, 'discordianslip': 1157, 'grease': 1815, 'station': 4112, 'djfeds': 1180, 'result': 3581, 'dolphrudager': 1201, 'uninvited': 4606, 'rockin': 3632, 'retweeting': 3587, 'drunksixthgrade': 1257, 'third': 4381, 'float': 1561, 'rent': 3562, 'lace': 2434, 'lovexlilyy': 2662, 'mint': 2834, 'clever': 804, 'kimkardashian': 2383, 'erinscafe': 1384, 'jon': 2301, 'espn': 1388, 'helmet': 1962, 'nevermind': 2990, 'firemunky': 1532, 'mountain': 2892, 'belief': 355, 'wide': 4845, 'gifs': 1724, 'teapot': 4287, 'whenever': 4825, 'goldnsilvercoin': 1763, 'insurance': 2180, 'guys': 1866, 'sassy': 3712, 'bullying': 585, 'bully': 584, 'grrizziy': 1836, 'pudding': 3431, 'certain': 699, 'racial': 3471, 'abt': 10, 'shitpussiessay': 3863, 'theory': 4357, 'ayy': 262, 'ab': 1, 'heydenbunsyolo': 1970, 'dgaf': 1127, 'repeat': 3564, 'gram': 1802, 'floppy': 1566, 'plant': 3300, 'breezyfrmdablok': 531, 'refuse': 3542, 'foe': 1580, 'iiak': 2121, 'spin': 4065, 'betray': 373, 'unloyal': 4615, 'inthekcmix': 2188, 'pau': 3214, 'planet': 3298, 'iowahawkblog': 2196, 'jjauthor': 2286, 'active': 30, 'duty': 1283, 'pepper': 3234, 'catholic': 674, 'gangster': 1687, 'knoww': 2414, 'dong': 1208, 'youth': 4978, 'lack': 2436, 'uhh': 4584, 'jennahnorberg': 2260, 'ehh': 1334, 'university': 4611, 'jessica': 2267, 'creep': 957, 'recent': 3526, 'juicygenie': 2314, 'justezzzee': 2326, 'lotion': 2650, 'list': 2570, 'lmfaoooooooo': 2601, 'karlamorenoo': 2337, 'introduce': 2189, 'hip': 1983, 'perform': 3240, 'mirror': 2837, 'gratata': 1813, 'kayliefarmer': 2346, 'basis': 320, 'winter': 4866, 'buss': 604, 'cashier': 666, 'saturday': 3716, 'romney': 3637, 'nathanndevlin': 2943, 'born': 485, 'sunset': 4202, 'license': 2536, 'puttin': 3452, 'crowd': 971, 'honda': 2021, 'migos': 2812, 'mcdonalds': 2750, 'holder': 2005, 'scandalous': 3734, 'kris': 2422, 'pu': 3429, 'laceeybugg': 2435, 'licker': 2538, 'trashy': 4493, 'parking': 3194, 'lettherainefall': 2526, 'longbongchris': 2633, 'disgusting': 1164, 'hiphop': 1984, 'proper': 3415, 'algebra': 89, 'bossy': 490, 'nuthin': 3076, 'chu': 777, 'ten': 4304, 'sort': 4028, 'mmm': 2850, 'cough': 926, 'abo': 5, 'goodbye': 1768, 'recently': 3527, 'whatupag': 4823, 'limp': 2557, 'congratulation': 890, 'charles': 725, 'invisible': 2190, 'quality': 3456, 'chik': 753, 'fil': 1515, 'mrfoolycooly': 2898, 'celestial': 690, 'blade': 416, 'mum': 2910, 'discover': 1158, 'jackass': 2224, 'monster': 2871, 'sue': 4191, 'scorpion': 3748, 'wes': 4809, 'hw': 2089, 'impossible': 2142, 'mill': 2826, 'wale': 4737, 'libs': 2535, 'sting': 4133, 'phishlicia': 3257, 'senate': 3792, 'senator': 3793, 'nt': 3068, 'gaza': 1700, 'pufntrees': 3433, 'horror': 2044, 'sugar': 4193, 'pow': 3363, 'custody': 1009, 'chirp': 763, 'poke': 3324, 'liveanduncut': 2579, 'rickygervais': 3600, 'hangover': 1903, 'ryancommakerry': 3679, 'stevie': 4127, 'ryan': 3678, 'useless': 4632, 'salomanizor': 3691, 'hammer': 1892, 'saramariewelch': 3710, 'suicide': 4195, 'mellie': 2764, 'blog': 438, 'conclusion': 880, 'ups': 4622, 'shaelynspacyyy': 3826, 'opposite': 3139, 'dive': 1174, 'equality': 1379, 'patrick': 3209, 'grown': 1835, 'joint': 2299, 'coke': 841, 'bloody': 442, 'tommy': 4453, 'christ': 774, 'handicap': 1895, 'tacalifornia': 4238, 'hockey': 1999, 'example': 1414, 'often': 3101, 'gif': 1723, 'eric': 1382, 'superman': 4208, 'thecoreyholcomb': 4345, 'thejokerxo': 4350, 'halftime': 1887, 'appear': 170, 'genuine': 1713, 'darkie': 1037, 'lob': 2612, 'humble': 2074, 'habit': 1871, 'lifetime': 2545, 'lowlife': 2666, 'thin': 4375, 'office': 3096, 'troymadden': 4519, 'russian': 3675, 'spider': 4063, 'urbasicyabish': 4627, 'madden': 2689, 'messi': 2783, 'vampirrrra': 4644, 'carpet': 659, 'rd': 3508, 'cho': 765, 'ate': 219, 'duhh': 1269, 'beatin': 343, 'oml': 3120, 'curse': 1005, 'blaxican': 422, 'glo': 1745, 'yooocaly': 4970, 'mn': 2851, 'shelf': 3847, 'bf': 380, 'fucked': 1651, 'ease': 1298, 'nuts': 3077, 'brag': 509, 'khloe': 2366, 'climb': 808, 'approach': 175, 'tender': 4307, 'cartel': 661, 'tee': 4293, 'jacket': 2225, 'karmas': 2340, 'northkorea': 3054, 'hippo': 1985, 'december': 1065, 'announce': 142, 'march': 2717, 'ghost': 1721, 'mcm': 2751, 'session': 3810, 'duke': 1270, 'hearted': 1948, 'nomore': 3040, 'compete': 868, 'bash': 317, 'inner': 2170, 'nuttin': 3078, 'noooo': 3046, 'tide': 4421, 'waitress': 4733, 'okies': 3111, 'graduate': 1799, 'hea': 1939, 'gate': 1694, 'woyke': 4912, 'dougie': 1221, 'sudden': 4190, 'crave': 947, 'sasuke': 3713, 'draya': 1233, 'prom': 3409, 'te': 4279, 'koolassk': 2420, 'lo': 2607, 'afternoon': 55, 'duddy': 1264, 'sippin': 3913, 'desk': 1117, 'theses': 4367, 'sober': 3993, 'youu': 4980, 'tweetin': 4553, 'oscar': 3153, 'selfies': 3786, 'allergy': 95, 'bother': 492, 'register': 3546, 'absolute': 7, 'north': 3053, 'false': 1458, 'indycar': 2162, 'cheesecake': 741, 'propaganda': 3414, 'sesh': 3809, 'hag': 1873, 'culture': 993, 'rack': 3474, 'soooooo': 4024, 'debate': 1064, 'fallin': 1457, 'shoulder': 3877, 'abuse': 12, 'japan': 2241, 'versa': 4659, 'doh': 1194, 'hating': 1931, 'ditch': 1173, 'thotcho': 4391, 'solution': 4006, 'rick': 3598, 'nigguhs': 3017, 'glue': 1750, 'yuh': 4983, 'champagne': 707, 'bacc': 267, 'commercial': 859, 'towel': 4476, 'athlete': 220, 'dunkin': 1279, 'donut': 1211, 'laundry': 2475, 'cardinal': 653, 'lettin': 2527, 'breathe': 527, 'whisper': 4834, 'ovum': 3167, 'strange': 4147, 'chant': 717, 'worried': 4903, 'bath': 325, 'suspend': 4220, 'sob': 3992, 'embrace': 1356, 'spine': 4066, 'customer': 1010, 'independent': 2158, 'audition': 234, 'legacy': 2507, 'stribpol': 4158, 'mngop': 2852, 'hubby': 2066, 'berg': 368, 'moe': 2858, 'booth': 479, 'lastnight': 2461, 'biggie': 388, 'mustard': 2920, 'snatch': 3980, 'fxck': 1678, 'flexin': 1556, 'chew': 746, 'scandalabc': 3733, 'rapist': 3493, 'veritaz': 4656, 'sane': 3706, 'bond': 464, 'nest': 2983, 'range': 3486, 'chalmers': 705, 'norris': 3052, 'non': 3041, 'dub': 1261, 'backpage': 271, 'currently': 1004, 'lawd': 2479, 'spaghetti': 4044, 'jennings': 2261, 'script': 3760, 'outfit': 3161, 'bryant': 564, 'quite': 3467, 'vonteeeeee': 4716, 'temper': 4300, 'scheme': 3742, 'bold': 461, 'file': 1516, 'sexual': 3818, 'bumpin': 591, 'ross': 3649, 'darealquitam': 1035, 'injury': 2168, 'bjayblast': 413, 'review': 3591, 'princess': 3390, 'cam': 627, 'camo': 630, 'scott': 3749, 'dems': 1097, 'tonite': 4459, 'sherman': 3848, 'remove': 3561, 'hallway': 1890, 'frm': 1637, 'stretch': 4157, 'shallow': 3831, 'ammo': 121, 'sucka': 4187, 'mexico': 2791, 'viagra': 4671, 'itty': 2218, 'cay': 679, 'celtic': 693, 'cod': 837, 'domino': 1204, 'lib': 2531, 'rumor': 3666, 'democratic': 1095, 'primary': 3388, 'kimball': 2381, 'fukin': 1661, 'eater': 1305, 'cheeky': 738, 'bbq': 331, 'lipstick': 2566, 'henny': 1964, 'madd': 2688, 'nigg': 3008, 'quan': 3457, 'toppy': 4465, 'virgo': 4699, 'ahora': 70, 'que': 3459, 'crank': 944, 'caught': 675, 'cruise': 973, 'buff': 574, 'cutler': 1013, 'candidate': 639, 'barrybonds': 308, 'fund': 1667, 'karlie': 2338, 'censor': 695, 'honor': 2028, 'ty': 4569, 'forgive': 1600, 'moral': 2879, 'inconsiderate': 2154, 'speaker': 4051, 'feminism': 1503, 'professor': 3403, 'ichiro': 2098, 'dedication': 1071, 'mentally': 2775, 'wisconsin': 4869, 'leanandcuisine': 2493, 'popcorn': 3343, 'designer': 1116, 'lion': 2564, 'health': 1942, 'official': 3098, 'miguel': 2813, 'building': 579, 'ding': 1145, 'sagittarius': 3685, 'baltsneakershow': 292, 'sandal': 3704, 'violent': 4693, 'lottery': 2652, 'resort': 3575, 'hillary': 1981, 'clinic': 810, 'choosin': 770, 'iggy': 2114, 'product': 3402, 'intention': 2181, 'leather': 2497, 'drinking': 1240, 'bitches': 407, 'geekin': 1703, 'inlove': 2169, 'jj': 2285, 'property': 3416, 'extinct': 1429, 'aa': 0, 'reward': 3593, 'goodmorning': 1769, 'lmfaoooooooooo': 2603, 'mustache': 2919, 'eattin': 1310, 'chubby': 778, 'fri': 1629, 'teddy': 4292, 'tense': 4309, 'european': 1393, 'gtta': 1843, 'losangeles': 2643, 'employee': 1362, 'staring': 4105, 'experience': 1424, 'eyebrows': 1435, 'pencil': 3228, 'universe': 4610, 'escort': 1386, 'educate': 1321, 'pattern': 3212, 'frontin': 1640, 'fantasy': 1468, 'machine': 2685, 'paula': 3216, 'tuna': 4537, 'grave': 1814, 'site': 3918, 'milkshake': 2825, 'forth': 1604, 'melt': 2766, 'hol': 2003, 'yaw': 4947, 'olivia': 3116, 'brake': 513, 'wrist': 4916, 'smoking': 3973, 'ga': 1679, 'surely': 4213, 'gtfoh': 1842, 'spirit': 4067, 'happily': 1907, 'ae': 46, 'virginiacity': 4697, 'yous': 4977, 'secondary': 3774, 'stinky': 4135, 'eww': 1410, 'ladykimora': 2440, 'vegasqueens': 4651, 'legs': 2513, 'boss': 489, 'spoiled': 4073, 'possession': 3355, 'superhero': 4206, 'therapy': 4358, 'evening': 1397, 'turntup': 4545, 'webad': 4788, 'wepretty': 4808, 'gayvegas': 1699, 'thoo': 4389, 'goodnight': 1771, 'vanilla': 4646, 'ketchup': 2358, 'slackin': 3932, 'fave': 1481, 'pour': 3361, 'robin': 3628, 'columbus': 850, 'hahahahahaha': 1881, 'sever': 3814, 'warning': 4755, 'graphic': 1811, 'lnyhbt': 2606, 'tgdn': 4328, 'pjnet': 3293, 'industry': 2161, 'accuse': 22, 'holiday': 2007, 'kimorablac': 2384, 'spiritual': 4068, 'thincc': 4376, 'anxiety': 154, 'handy': 1899, 'plenty': 3312, 'attach': 224, 'sean': 3767, 'patient': 3208, 'openly': 3134, 'poo': 3337, 'process': 3401, 'booby': 472, 'dicc': 1131, 'lutsen': 2676, 'papa': 3186, 'bong': 468, 'thenna': 4353, 'givin': 1739, 'satisfy': 3715, 'butch': 607, 'yeen': 4954, 'gosling': 1782, 'insta': 2176, 'therefore': 4364, 'enter': 1373, 'associate': 214, 'hypocritical': 2093, 'revenge': 3590, 'joy': 2307, 'ova': 3164, 'thesis': 4368, 'seein': 3780, 'hospital': 2048, 'consistent': 894, 'loan': 2611, 'appointment': 173, 'stash': 4109, 'stuntin': 4173, 'sweater': 4225, 'boof': 473, 'otha': 3155, 'temple': 4301, 'edm': 1320, 'doo': 1212, 'runner': 3668, 'donate': 1207, 'ton': 4455, 'lux': 2678, 'paranoid': 3189, 'gooooo': 1776, 'fucced': 1647, 'randomly': 3485, 'request': 3570, 'unnecessary': 4616, 'wishy': 4872, 'washy': 4759, 'dean': 1061, 'theyre': 4371, 'junior': 2320, 'compliment': 873, 'rim': 3611, 'gatorade': 1696, 'blink': 432, 'ctfuu': 983, 'bytches': 617, 'hideous': 1974, 'rep': 3563, 'peachpapayya': 3221, 'slightly': 3946, 'flirt': 1560, 'casket': 667, 'tae': 4242, 'stiff': 4131, 'winston': 4865, 'manly': 2709, 'immature': 2137, 'insane': 2173, 'alpha': 102, 'pride': 3387, 'turner': 4543, 'rts': 3657, 'roommate': 3644, 'teenage': 4295, 'barrel': 307, 'angle': 136, 'string': 4160, 'greene': 1819, 'inform': 2166, 'button': 611, 'ace': 23, 'cani': 641, 'whack': 4816, 'layer': 2483, 'eyelash': 1436, 'sharpie': 3840, 'murk': 2913, 'tick': 4419, 'disappear': 1155, 'meek': 2762, 'subject': 4179, 'thankful': 4334, 'saltine': 3695, 'eaten': 1304, 'warn': 4754, 'eastern': 1301, 'jaw': 2245, 'yezidi': 4964, 'maury': 2742, 'twerkin': 4557, 'bridge': 538, 'backpack': 270, 'rutgers': 3676, 'cray': 948, 'anger': 135, 'ops': 3140, 'gutter': 1863, 'arent': 181, 'barber': 303, 'overall': 3165, 'lickin': 2539, 'louisville': 2657, 'seahawks': 3766, 'dislike': 1166, 'suburban': 4182, 'restaurant': 3580, 'conceited': 877, 'mcdonald': 2749, 'perry': 3244, 'tetherball': 4318, 'tennessee': 4308, 'sunshine': 4203, 'libra': 2533, 'operation': 3135, 'disrupts': 1170, 'shylock': 3890, 'priceless': 3386, 'worldnetdaily': 4900, 'igiveemnathan': 2117, 'affect': 49, 'declare': 1070, 'ounce': 3158, 'boner': 466, 'tendency': 4306, 'twenty': 4555, 'leftist': 2504, 'unbelievable': 4593, 'nag': 2931, 'salt': 3694, 'lolololol': 2627, 'jenna': 2259, 'lawrence': 2480, 'charity': 724, 'breitbartnews': 533, 'abu': 11, 'pilot': 3276, 'identify': 2103, 'ccot': 683, 'helicopter': 1958, 'neverforget': 2989, 'loll': 2624, 'sheseauxsaditty': 3851, 'attorney': 230, 'jerry': 2265, 'lou': 2653, 'thirty': 4384, 'cater': 672, 'una': 4591, 'channymaraj': 716, 'meme': 2768, 'badder': 276, 'shamargothoes': 3832, 'lmaooooooo': 2592, 'medical': 2759, 'lmfaoooooo': 2599, 'pbo': 3219, 'cthagod': 984, 'refund': 3541, 'seagull': 3765, 'bumble': 587, 'tyleriam': 4572, 'bakegriffin': 285, 'wallah': 4742, 'nem': 2977, 'vegas': 4650, 'diponline': 1149, 'lmaoooooo': 2591, 'lmaoooooooo': 2593, 'senorsteez': 3796, 'kool': 2419, 'groupie': 1833, 'gentle': 1712, 'usher': 4633, 'forward': 1605, 'jury': 2321, 'familiar': 1461, 'marijuana': 2720, 'teixeira': 4297, 'jane': 2239, 'mccann': 2748, 'russel': 3672, 'participate': 3196, 'marie': 2719, 'missouri': 2842, 'fitness': 1538, 'direction': 1150, 'flyer': 1573, 'loaded': 2609, 'dory': 1216, 'dum': 1271, 'todd': 4447, 'gurley': 1860, 'porno': 3350, 'severely': 3816, 'pepsi': 3235, 'cola': 842, 'flash': 1547, 'congress': 891, 'dolla': 1197, 'workin': 4897, 'cannon': 642, 'tyrese': 4575, 'fu': 1644, 'nikko': 3023, 'wink': 4863, 'chanel': 711, 'tfeh': 4327, 'tinker': 4435, 'thedrunkstory': 4346, 'contract': 901, 'clique': 813, 'disappoint': 1156, 'esteem': 1390, 'squeeze': 4087, 'perhaps': 3241, 'whether': 4827, 'rupaulsdragrace': 3671, 'genuinely': 1714, 'dolphin': 1200, 'farewellcaptain': 1470, 'reject': 3549, 'wi': 4843, 'lava': 2477, 'aianhangover': 72, 'iammrechols': 2095, 'section': 3776, 'funeral': 1668, 'razor': 3506, 'promoter': 3412, 'assault': 210, 'ht': 2061, 'kissin': 2395, 'tronkitty': 4514, 'velvethammer': 4655, 'amberrrnicollle': 116, 'library': 2534, 'htt': 2063, 'hateful': 1928, 'subway': 4183, 'assholeofdayear': 213, 'rudy': 3661, 'soulja': 4031, 'ruth': 3677, 'gehrig': 1705, 'screaming': 3756, 'htgawm': 2062, 'basedpaco': 315, 'towards': 4475, 'lobby': 2613, 'nonsense': 3043, 'violence': 4692, 'latry': 2470, 'vanish': 4647, 'unemployed': 4599, 'bleacherreport': 425, 'starter': 4107, 'jackie': 2226, 'zzachbarness': 4999, 'sweetheart': 4228, 'havemercyyy': 1933, 'lola': 2623, 'hopeful': 2038, 'staycoolwheels': 4115, 'trial': 4504, 'ma': 2682, 'buzz': 613, 'merica': 2778, 'vitamin': 4704, 'flop': 1565, 'vocativ': 4709, 'gvmby': 1867, 'possess': 3354, 'craziestsex': 950, 'cuhcuhcuh': 992, 'filter': 1519, 'curvables': 1006, 'dfkinlopes': 1126, 'gurujeremy': 1861, 'th': 4329, 'zoo': 4996, 'looooool': 2637, 'shinsnipes': 3859, 'tonyjrodriguez': 4461, 'cycle': 1015, 'dragonflyjonez': 1228, 'afc': 48, 'risk': 3616, 'urge': 4628, 'thicke': 4373, 'foodpornsx': 1588, 'hardy': 1918, 'talent': 4249, 'eve': 1395, 'funkydineva': 1670, 'nerd': 2979, 'warfare': 4752, 'mansion': 2714, 'jacklynannn': 2227, 'goatraplines': 1755, 'versacesilk': 4662, 'guycodes': 1865, 'hbcufessions': 1937, 'famu': 1464, 'ge': 1701, 'heissarcastic': 1957, 'goldfish': 1762, 'veronicagk': 4658, 'gpa': 1796, 'imneverchillin': 2139, 'losbeonit': 2644, 'itsfoodporn': 2214, 'cle': 799, 'jazzriley': 2250, 'yadirasarmiento': 4931, 'abusive': 13, 'johnnyfootbali': 2296, 'logo': 2620, 'grande': 1805, 'lan': 2449, 'versharky': 4666, 'bengali': 365, 'pitiful': 3290, 'killallsimps': 2375, 'immediately': 2138, 'lent': 2516, 'lohanthony': 2621, 'seven': 3813, 'raven': 3502, 'baeelectronica': 280, 'blew': 430, 'reference': 3540, 'ford': 1594, 'latte': 2471, 'vintage': 4690, 'mcnarstle': 2752, 'outbreak': 3159, 'menshumor': 2772, 'london': 2630, 'treatment': 4497, 'basedamerican': 313, 'gota': 1787, 'mydickiscalled': 2926, 'eggo': 1329, 'sneaker': 3983, 'flagrant': 1544, 'nekkohbk': 2975, 'nerdatcooltable': 2980, 'nikowavy': 3024, 'nohoesnextdoor': 3036, 'nowomanisright': 3065, 'handful': 1894, 'sav': 3720, 'ohlawditsniesha': 3107, 'tuesday': 4535, 'watchu': 4769, 'probirdrights': 3399, 'gump': 1856, 'ripvuhsace': 3614, 'songz': 4017, 'rakwonogod': 3480, 'rayiopez': 3505, 'nominee': 3038, 'michellemalkin': 2801, 'sexualtruth': 3820, 'happens': 1906, 'elder': 1339, 'sheswantsthed': 3852, 'showmeatittie': 3885, 'curious': 1000, 'robinson': 3629, 'stevstiffler': 4128, 'unattractive': 4592, 'thewalkingdead': 4370, 'haired': 1884, 'swizzzy': 4233, 'taxstone': 4272, 'thatdamnham': 4339, 'thebloodshow': 4344, 'thefakeespn': 4348, 'coworker': 940, 'mask': 2729, 'therealicetre': 4361, 'snail': 3976, 'thevoiceofmiami': 4369, 'harm': 1920, 'ideology': 2104, 'soap': 3991, 'twitchyteam': 4563, 'linebacker': 2559, 'urbanengiish': 4626, 'versacetweetgod': 4663, 'villagebae': 4687, 'woridstarhlphop': 4894, 'waynedupreeshow': 4779, 'yaboylilb': 4930, 'walkoff': 4740, 'donquixtote': 1209, 'tiemyduragboo': 4423, 'cemetery': 694, 'cha': 700, 'vivalakash': 4706, 'drunken': 1256, 'bugattibeez': 577, 'gawd': 1697, 'dril': 1238, 'sonia': 4018, 'criticise': 967, 'ikesizzle': 2125, 'ne': 2959, 'itsdorry': 2213, 'lnsanetweets': 2605, 'segment': 3783, 'goodness': 1770, 'grip': 1828, 'shikeattike': 3855, 'versaceezy': 4661, 'vickybeanmr': 4678, 'ut': 4635, 'dvd': 1284, 'irri': 2202, 'sharpen': 3839, 'waymothegod': 4777}\n"
     ]
    }
   ],
   "source": [
    "print(Tfidf_vect.vocabulary_)"
   ]
  },
  {
   "attachments": {},
   "cell_type": "markdown",
   "metadata": {},
   "source": [
    "#### Training and Testing Data"
   ]
  },
  {
   "attachments": {},
   "cell_type": "markdown",
   "metadata": {},
   "source": [
    "##### Train a SVM(Support Vector Machine) model with training data"
   ]
  },
  {
   "cell_type": "code",
   "execution_count": 192,
   "metadata": {},
   "outputs": [],
   "source": [
    "# Initialize a SVM model\n",
    "SVM = svm.SVC(C=1.0, kernel='linear')"
   ]
  },
  {
   "cell_type": "code",
   "execution_count": 193,
   "metadata": {},
   "outputs": [],
   "source": [
    "# Train with training data\n",
    "history = SVM.fit(Train_X_Tfidf,Train_Y)"
   ]
  },
  {
   "attachments": {},
   "cell_type": "markdown",
   "metadata": {},
   "source": [
    "##### Test with test data"
   ]
  },
  {
   "cell_type": "code",
   "execution_count": 194,
   "metadata": {},
   "outputs": [],
   "source": [
    "# predict the labels on validation dataset\n",
    "predictions_SVM = SVM.predict(Test_X_Tfidf)"
   ]
  },
  {
   "cell_type": "code",
   "execution_count": 195,
   "metadata": {},
   "outputs": [
    {
     "name": "stdout",
     "output_type": "stream",
     "text": [
      "SVM Accuracy Score ->  91.10349001412145\n"
     ]
    }
   ],
   "source": [
    "# Use accuracy_score function to get the accuracy\n",
    "print(\"SVM Accuracy Score -> \",accuracy_score(predictions_SVM, Test_Y)*100)"
   ]
  },
  {
   "attachments": {},
   "cell_type": "markdown",
   "metadata": {},
   "source": [
    "#### Save and Load Model"
   ]
  },
  {
   "cell_type": "code",
   "execution_count": 171,
   "metadata": {},
   "outputs": [],
   "source": [
    "# We will use picke library to save and load the model\n",
    "import pickle"
   ]
  },
  {
   "cell_type": "code",
   "execution_count": 172,
   "metadata": {},
   "outputs": [],
   "source": [
    "# save model as file 'svm_model.pkl'\n",
    "with open('svm_model.pkl', 'wb') as file:\n",
    "    pickle.dump(SVM, file)\n"
   ]
  },
  {
   "cell_type": "code",
   "execution_count": 173,
   "metadata": {},
   "outputs": [],
   "source": [
    "# save vetorizer as file 'vectorizer.pkl'\n",
    "with open('vectorizer.pkl', 'wb') as file:\n",
    "    pickle.dump(Tfidf_vect, file)"
   ]
  },
  {
   "cell_type": "markdown",
   "metadata": {},
   "source": [
    "#### Detect Hate Speech/ Offensive Speech using loaded model and vectorizer"
   ]
  },
  {
   "cell_type": "code",
   "execution_count": 174,
   "metadata": {},
   "outputs": [],
   "source": [
    "# Load model\n",
    "with open('svm_model.pkl', 'rb') as file:\n",
    "    # Call load method to deserialze\n",
    "    model = pickle.load(file)"
   ]
  },
  {
   "cell_type": "code",
   "execution_count": 175,
   "metadata": {},
   "outputs": [],
   "source": [
    "# Load Vectorizer\n",
    "with open('vectorizer.pkl', 'rb') as file:\n",
    "    # Call load method to deserialze\n",
    "    vectorizer = pickle.load(file)"
   ]
  },
  {
   "cell_type": "code",
   "execution_count": 176,
   "metadata": {},
   "outputs": [],
   "source": [
    "def detect(text:str):\n",
    "    labels = [\"Hate Speech\",\"Offensive\",\"Neutral\"]\n",
    "    # convert to lower case\n",
    "    text = text.lower()\n",
    "    # tokenize\n",
    "    text = word_tokenize(text)\n",
    "    # WordNetLemmatizer requires Pos tags to understand if the word is noun or verb or adjective etc. By default it is set to Noun\n",
    "    tag_map = defaultdict(lambda : wn.NOUN)\n",
    "    tag_map['J'] = wn.ADJ\n",
    "    tag_map['V'] = wn.VERB\n",
    "    tag_map['R'] = wn.ADV\n",
    "    # Declaring Empty List to store the words that follow the rules for this step\n",
    "    Final_words = []\n",
    "    # Initializing WordNetLemmatizer()\n",
    "    word_Lemmatized = WordNetLemmatizer()\n",
    "    # pos_tag function below will provide the 'tag' i.e if the word is Noun(N) or Verb(V) or something else.\n",
    "    for word, tag in pos_tag(text):\n",
    "        # Below condition is to check for Stop words and consider only alphabets\n",
    "        if word not in stopwords.words('english') and word.isalpha():\n",
    "            word_Final = word_Lemmatized.lemmatize(word,tag_map[tag[0]])\n",
    "            Final_words.append(word_Final)\n",
    "    # The final processed set of words for each iteration will be stored in 'text_final'\n",
    "    text_final = [str(Final_words)]\n",
    "    vectorized_text = vectorizer.transform(text_final)\n",
    "    predictions = model.predict(vectorized_text)\n",
    "    print(f\"Category of given text is '{labels[predictions[0]]}' \")\n"
   ]
  },
  {
   "cell_type": "code",
   "execution_count": 191,
   "metadata": {},
   "outputs": [
    {
     "name": "stdout",
     "output_type": "stream",
     "text": [
      "Category of given text is 'Neutral' \n"
     ]
    }
   ],
   "source": [
    "detect(\"Womens are the power of our country\")"
   ]
  }
 ],
 "metadata": {
  "kernelspec": {
   "display_name": "Python 3",
   "language": "python",
   "name": "python3"
  },
  "language_info": {
   "codemirror_mode": {
    "name": "ipython",
    "version": 3
   },
   "file_extension": ".py",
   "mimetype": "text/x-python",
   "name": "python",
   "nbconvert_exporter": "python",
   "pygments_lexer": "ipython3",
   "version": "3.10.6"
  },
  "orig_nbformat": 4
 },
 "nbformat": 4,
 "nbformat_minor": 2
}
